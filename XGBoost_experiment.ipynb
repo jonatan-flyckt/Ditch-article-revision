{
 "cells": [
  {
   "cell_type": "code",
   "execution_count": null,
   "metadata": {},
   "outputs": [],
   "source": [
    "import pickle\n",
    "import xgboost\n",
    "import numpy as np\n",
    "from imblearn.under_sampling import RandomUnderSampler\n",
    "\n",
    "from sklearn.model_selection import train_test_split\n",
    "from sklearn.metrics import cohen_kappa_score\n",
    "from bayes_opt import BayesianOptimization"
   ]
  },
  {
   "cell_type": "code",
   "execution_count": null,
   "metadata": {},
   "outputs": [],
   "source": []
  },
  {
   "cell_type": "code",
   "execution_count": 15,
   "metadata": {},
   "outputs": [],
   "source": [
    "file = open(\"dataset/zone_4.pickle\", \"rb\")\n",
    "train_data = pickle.load(file)\n",
    "\n",
    "file = open(\"dataset/zone_7.pickle\", \"rb\")\n",
    "test_data = pickle.load(file)"
   ]
  },
  {
   "cell_type": "code",
   "execution_count": 16,
   "metadata": {},
   "outputs": [],
   "source": [
    "X_train, y_train = np.array(train_data.loc[:, train_data.columns != 'label_3m']), np.array(train_data[\"label_3m\"]).astype(int)\n",
    "train_data = None\n",
    "\n",
    "X_test, y_test = np.array(test_data.loc[:, test_data.columns != 'label_3m']), np.array(test_data[\"label_3m\"]).astype(int)\n",
    "test_data = None"
   ]
  },
  {
   "cell_type": "code",
   "execution_count": 5,
   "metadata": {},
   "outputs": [
    {
     "name": "stdout",
     "output_type": "stream",
     "text": [
      "922182\n"
     ]
    }
   ],
   "source": [
    "rus = RandomUnderSampler(.2, random_state=0)\n",
    "X_train, y_train = rus.fit_resample(X_train, y_train)\n",
    "print(len(X_train))"
   ]
  },
  {
   "cell_type": "code",
   "execution_count": 19,
   "metadata": {},
   "outputs": [],
   "source": [
    "clf =  xgboost.XGBClassifier(tree_method=\"gpu_hist\")"
   ]
  },
  {
   "cell_type": "code",
   "execution_count": 22,
   "metadata": {},
   "outputs": [],
   "source": [
    "#clf.fit(X_train, y_train)\n",
    "most_important_features = np.argsort(clf.feature_importances_)[-10:]\n",
    "#np.sort(clf.feature_importances_)"
   ]
  },
  {
   "cell_type": "code",
   "execution_count": 23,
   "metadata": {},
   "outputs": [
    {
     "data": {
      "text/plain": [
       "array([69, 43, 57,  5, 52, 30, 31, 32, 35, 34], dtype=int64)"
      ]
     },
     "execution_count": 23,
     "metadata": {},
     "output_type": "execute_result"
    }
   ],
   "source": [
    "most_important_features"
   ]
  },
  {
   "cell_type": "code",
   "execution_count": 7,
   "metadata": {},
   "outputs": [],
   "source": [
    "pred = clf.predict(X_test)"
   ]
  },
  {
   "cell_type": "code",
   "execution_count": 8,
   "metadata": {},
   "outputs": [
    {
     "data": {
      "text/plain": [
       "0.5029843078079197"
      ]
     },
     "execution_count": 8,
     "metadata": {},
     "output_type": "execute_result"
    }
   ],
   "source": [
    "cohen_kappa_score(y_test, pred)"
   ]
  },
  {
   "cell_type": "code",
   "execution_count": 24,
   "metadata": {},
   "outputs": [],
   "source": [
    "def optim_function(learning_rate=.1,\n",
    "                   n_estimators=100,\n",
    "                   max_depth=5,\n",
    "                   min_child_weight=1,\n",
    "                   gamma=0,\n",
    "                   subsample=.8,\n",
    "                   colsample_bytree=.8,\n",
    "                   scale_pos_weight=2,\n",
    "                   reg_alpha=0):\n",
    "    \n",
    "    max_depth = int(max_depth)\n",
    "    min_child_weight = int(min_child_weight)\n",
    "    n_estimators = int(n_estimators)\n",
    "    \n",
    "    clf = xgboost.sklearn.XGBClassifier(max_depth=int(max_depth),\n",
    "                                        learning_rate=learning_rate,\n",
    "                                        n_estimators=n_estimators,\n",
    "                                        gamma=gamma,\n",
    "                                        min_child_weight=int(min_child_weight),\n",
    "                                        subsample=subsample,\n",
    "                                        colsample_bytree=colsample_bytree,\n",
    "                                        scale_pos_weight=scale_pos_weight,\n",
    "                                        reg_alpha=reg_alpha,\n",
    "                                        n_jobs=4,\n",
    "                                        tree_method=\"gpu_hist\",\n",
    "                                        seed=41\n",
    "                                       )\n",
    "    \n",
    "    clf.fit(X_train[:, most_important_features], y_train)\n",
    "    \n",
    "    pred = clf.predict(X_test[:, most_important_features])\n",
    "    kappa = cohen_kappa_score(y_test, pred)\n",
    "    return kappa"
   ]
  },
  {
   "cell_type": "code",
   "execution_count": 25,
   "metadata": {},
   "outputs": [],
   "source": [
    "pbounds = {\"learning_rate\": (1e-4, 1e0),\n",
    "           \"n_estimators\": (50, 500),\n",
    "           \"gamma\": (0, .9),\n",
    "           \"min_child_weight\": (0, 10),\n",
    "           \"subsample\": (.1, .95),\n",
    "           \"colsample_bytree\": (.1, .95),\n",
    "           \"scale_pos_weight\": (1, 5),\n",
    "           \"max_depth\": (3, 15),\n",
    "           \"reg_alpha\": (0, 1e-3)\n",
    "          }\n",
    "\n",
    "optimizer = BayesianOptimization(\n",
    "    f=optim_function,\n",
    "    pbounds=pbounds,\n",
    "    random_state=1,\n",
    "    verbose=2,\n",
    ")"
   ]
  },
  {
   "cell_type": "code",
   "execution_count": 26,
   "metadata": {},
   "outputs": [
    {
     "name": "stdout",
     "output_type": "stream",
     "text": [
      "|   iter    |  target   | colsam... |   gamma   | learni... | max_depth | min_ch... | n_esti... | reg_alpha | scale_... | subsample |\n",
      "-------------------------------------------------------------------------------------------------------------------------------------\n",
      "| \u001b[0m 1       \u001b[0m | \u001b[0m 0.4422  \u001b[0m | \u001b[0m 0.4545  \u001b[0m | \u001b[0m 0.6483  \u001b[0m | \u001b[0m 0.000214\u001b[0m | \u001b[0m 6.628   \u001b[0m | \u001b[0m 1.468   \u001b[0m | \u001b[0m 91.55   \u001b[0m | \u001b[0m 0.000186\u001b[0m | \u001b[0m 2.382   \u001b[0m | \u001b[0m 0.4373  \u001b[0m |\n",
      "| \u001b[95m 2       \u001b[0m | \u001b[95m 0.481   \u001b[0m | \u001b[95m 0.558   \u001b[0m | \u001b[95m 0.3773  \u001b[0m | \u001b[95m 0.6853  \u001b[0m | \u001b[95m 5.453   \u001b[0m | \u001b[95m 8.781   \u001b[0m | \u001b[95m 62.32   \u001b[0m | \u001b[95m 0.000670\u001b[0m | \u001b[95m 2.669   \u001b[0m | \u001b[95m 0.5749  \u001b[0m |\n",
      "| \u001b[0m 3       \u001b[0m | \u001b[0m 0.3576  \u001b[0m | \u001b[0m 0.2193  \u001b[0m | \u001b[0m 0.1783  \u001b[0m | \u001b[0m 0.8008  \u001b[0m | \u001b[0m 14.62   \u001b[0m | \u001b[0m 3.134   \u001b[0m | \u001b[0m 361.5   \u001b[0m | \u001b[0m 0.000876\u001b[0m | \u001b[0m 4.578   \u001b[0m | \u001b[0m 0.1723  \u001b[0m |\n",
      "| \u001b[0m 4       \u001b[0m | \u001b[0m 0.4776  \u001b[0m | \u001b[0m 0.1332  \u001b[0m | \u001b[0m 0.1528  \u001b[0m | \u001b[0m 0.8782  \u001b[0m | \u001b[0m 4.18    \u001b[0m | \u001b[0m 4.211   \u001b[0m | \u001b[0m 481.1   \u001b[0m | \u001b[0m 0.000533\u001b[0m | \u001b[0m 3.768   \u001b[0m | \u001b[0m 0.3682  \u001b[0m |\n",
      "| \u001b[95m 5       \u001b[0m | \u001b[95m 0.4978  \u001b[0m | \u001b[95m 0.6835  \u001b[0m | \u001b[95m 0.7512  \u001b[0m | \u001b[95m 0.01839 \u001b[0m | \u001b[95m 12.0    \u001b[0m | \u001b[95m 9.889   \u001b[0m | \u001b[95m 386.7   \u001b[0m | \u001b[95m 0.000280\u001b[0m | \u001b[95m 4.157   \u001b[0m | \u001b[95m 0.1877  \u001b[0m |\n",
      "| \u001b[0m 6       \u001b[0m | \u001b[0m 0.3422  \u001b[0m | \u001b[0m 0.95    \u001b[0m | \u001b[0m 0.9     \u001b[0m | \u001b[0m 0.0001  \u001b[0m | \u001b[0m 3.0     \u001b[0m | \u001b[0m 10.0    \u001b[0m | \u001b[0m 206.9   \u001b[0m | \u001b[0m 0.0     \u001b[0m | \u001b[0m 1.0     \u001b[0m | \u001b[0m 0.95    \u001b[0m |\n",
      "| \u001b[0m 7       \u001b[0m | \u001b[0m 0.4139  \u001b[0m | \u001b[0m 0.95    \u001b[0m | \u001b[0m 0.9     \u001b[0m | \u001b[0m 0.0001  \u001b[0m | \u001b[0m 15.0    \u001b[0m | \u001b[0m 10.0    \u001b[0m | \u001b[0m 440.8   \u001b[0m | \u001b[0m 0.000214\u001b[0m | \u001b[0m 1.0     \u001b[0m | \u001b[0m 0.95    \u001b[0m |\n",
      "| \u001b[0m 8       \u001b[0m | \u001b[0m 0.4397  \u001b[0m | \u001b[0m 0.5121  \u001b[0m | \u001b[0m 0.4732  \u001b[0m | \u001b[0m 0.5616  \u001b[0m | \u001b[0m 10.17   \u001b[0m | \u001b[0m 8.951   \u001b[0m | \u001b[0m 386.5   \u001b[0m | \u001b[0m 0.000545\u001b[0m | \u001b[0m 2.082   \u001b[0m | \u001b[0m 0.6307  \u001b[0m |\n",
      "| \u001b[0m 9       \u001b[0m | \u001b[0m 0.4902  \u001b[0m | \u001b[0m 0.95    \u001b[0m | \u001b[0m 0.9     \u001b[0m | \u001b[0m 0.0001  \u001b[0m | \u001b[0m 15.0    \u001b[0m | \u001b[0m 10.0    \u001b[0m | \u001b[0m 274.8   \u001b[0m | \u001b[0m 5.052e-1\u001b[0m | \u001b[0m 5.0     \u001b[0m | \u001b[0m 0.1     \u001b[0m |\n",
      "| \u001b[0m 10      \u001b[0m | \u001b[0m 0.4126  \u001b[0m | \u001b[0m 0.6884  \u001b[0m | \u001b[0m 0.5291  \u001b[0m | \u001b[0m 0.5267  \u001b[0m | \u001b[0m 13.34   \u001b[0m | \u001b[0m 8.947   \u001b[0m | \u001b[0m 499.8   \u001b[0m | \u001b[0m 0.000680\u001b[0m | \u001b[0m 4.032   \u001b[0m | \u001b[0m 0.2276  \u001b[0m |\n",
      "| \u001b[0m 11      \u001b[0m | \u001b[0m 0.4635  \u001b[0m | \u001b[0m 0.1     \u001b[0m | \u001b[0m 0.0     \u001b[0m | \u001b[0m 1.0     \u001b[0m | \u001b[0m 15.0    \u001b[0m | \u001b[0m 10.0    \u001b[0m | \u001b[0m 146.8   \u001b[0m | \u001b[0m 0.001   \u001b[0m | \u001b[0m 5.0     \u001b[0m | \u001b[0m 0.1     \u001b[0m |\n",
      "| \u001b[0m 12      \u001b[0m | \u001b[0m 0.4615  \u001b[0m | \u001b[0m 0.1     \u001b[0m | \u001b[0m 0.9     \u001b[0m | \u001b[0m 1.0     \u001b[0m | \u001b[0m 15.0    \u001b[0m | \u001b[0m 0.0     \u001b[0m | \u001b[0m 50.0    \u001b[0m | \u001b[0m 0.0     \u001b[0m | \u001b[0m 5.0     \u001b[0m | \u001b[0m 0.95    \u001b[0m |\n",
      "| \u001b[0m 13      \u001b[0m | \u001b[0m 0.3909  \u001b[0m | \u001b[0m 0.95    \u001b[0m | \u001b[0m 0.9     \u001b[0m | \u001b[0m 0.0001  \u001b[0m | \u001b[0m 3.0     \u001b[0m | \u001b[0m 10.0    \u001b[0m | \u001b[0m 310.0   \u001b[0m | \u001b[0m 0.0     \u001b[0m | \u001b[0m 5.0     \u001b[0m | \u001b[0m 0.1     \u001b[0m |\n",
      "| \u001b[0m 14      \u001b[0m | \u001b[0m 0.3906  \u001b[0m | \u001b[0m 0.1     \u001b[0m | \u001b[0m 0.9     \u001b[0m | \u001b[0m 0.0001  \u001b[0m | \u001b[0m 3.0     \u001b[0m | \u001b[0m 10.0    \u001b[0m | \u001b[0m 415.9   \u001b[0m | \u001b[0m 0.001   \u001b[0m | \u001b[0m 5.0     \u001b[0m | \u001b[0m 0.1     \u001b[0m |\n",
      "| \u001b[0m 15      \u001b[0m | \u001b[0m 0.381   \u001b[0m | \u001b[0m 0.1     \u001b[0m | \u001b[0m 0.0     \u001b[0m | \u001b[0m 0.0001  \u001b[0m | \u001b[0m 15.0    \u001b[0m | \u001b[0m 10.0    \u001b[0m | \u001b[0m 85.95   \u001b[0m | \u001b[0m 0.001   \u001b[0m | \u001b[0m 5.0     \u001b[0m | \u001b[0m 0.1     \u001b[0m |\n",
      "| \u001b[95m 16      \u001b[0m | \u001b[95m 0.5005  \u001b[0m | \u001b[95m 0.9126  \u001b[0m | \u001b[95m 0.4131  \u001b[0m | \u001b[95m 0.2495  \u001b[0m | \u001b[95m 3.27    \u001b[0m | \u001b[95m 0.348   \u001b[0m | \u001b[95m 155.7   \u001b[0m | \u001b[95m 0.000689\u001b[0m | \u001b[95m 4.196   \u001b[0m | \u001b[95m 0.427   \u001b[0m |\n",
      "| \u001b[0m 17      \u001b[0m | \u001b[0m 0.3198  \u001b[0m | \u001b[0m 0.1     \u001b[0m | \u001b[0m 0.0     \u001b[0m | \u001b[0m 1.0     \u001b[0m | \u001b[0m 15.0    \u001b[0m | \u001b[0m 0.0     \u001b[0m | \u001b[0m 182.5   \u001b[0m | \u001b[0m 0.000634\u001b[0m | \u001b[0m 5.0     \u001b[0m | \u001b[0m 0.1     \u001b[0m |\n",
      "| \u001b[0m 18      \u001b[0m | \u001b[0m 0.4325  \u001b[0m | \u001b[0m 0.95    \u001b[0m | \u001b[0m 0.9     \u001b[0m | \u001b[0m 0.0001  \u001b[0m | \u001b[0m 3.0     \u001b[0m | \u001b[0m 10.0    \u001b[0m | \u001b[0m 125.0   \u001b[0m | \u001b[0m 0.000419\u001b[0m | \u001b[0m 5.0     \u001b[0m | \u001b[0m 0.95    \u001b[0m |\n",
      "| \u001b[0m 19      \u001b[0m | \u001b[0m 0.3476  \u001b[0m | \u001b[0m 0.95    \u001b[0m | \u001b[0m 0.0     \u001b[0m | \u001b[0m 0.0001  \u001b[0m | \u001b[0m 3.0     \u001b[0m | \u001b[0m 0.0     \u001b[0m | \u001b[0m 259.6   \u001b[0m | \u001b[0m 0.0     \u001b[0m | \u001b[0m 1.0     \u001b[0m | \u001b[0m 0.1     \u001b[0m |\n",
      "| \u001b[0m 20      \u001b[0m | \u001b[0m 0.4848  \u001b[0m | \u001b[0m 0.95    \u001b[0m | \u001b[0m 0.0     \u001b[0m | \u001b[0m 0.0001  \u001b[0m | \u001b[0m 15.0    \u001b[0m | \u001b[0m 0.0     \u001b[0m | \u001b[0m 474.9   \u001b[0m | \u001b[0m 0.000826\u001b[0m | \u001b[0m 5.0     \u001b[0m | \u001b[0m 0.1     \u001b[0m |\n",
      "| \u001b[0m 21      \u001b[0m | \u001b[0m 0.3836  \u001b[0m | \u001b[0m 0.1     \u001b[0m | \u001b[0m 0.0     \u001b[0m | \u001b[0m 0.0001  \u001b[0m | \u001b[0m 3.0     \u001b[0m | \u001b[0m 0.0     \u001b[0m | \u001b[0m 50.0    \u001b[0m | \u001b[0m 0.001   \u001b[0m | \u001b[0m 5.0     \u001b[0m | \u001b[0m 0.1     \u001b[0m |\n",
      "| \u001b[0m 22      \u001b[0m | \u001b[0m 0.3425  \u001b[0m | \u001b[0m 0.95    \u001b[0m | \u001b[0m 0.9     \u001b[0m | \u001b[0m 0.0001  \u001b[0m | \u001b[0m 3.0     \u001b[0m | \u001b[0m 0.0     \u001b[0m | \u001b[0m 500.0   \u001b[0m | \u001b[0m 0.0     \u001b[0m | \u001b[0m 1.0     \u001b[0m | \u001b[0m 0.95    \u001b[0m |\n",
      "| \u001b[0m 23      \u001b[0m | \u001b[0m 0.4095  \u001b[0m | \u001b[0m 0.1     \u001b[0m | \u001b[0m 0.9     \u001b[0m | \u001b[0m 1.0     \u001b[0m | \u001b[0m 3.0     \u001b[0m | \u001b[0m 10.0    \u001b[0m | \u001b[0m 159.0   \u001b[0m | \u001b[0m 0.0     \u001b[0m | \u001b[0m 1.0     \u001b[0m | \u001b[0m 0.1     \u001b[0m |\n",
      "| \u001b[0m 24      \u001b[0m | \u001b[0m 0.4023  \u001b[0m | \u001b[0m 0.95    \u001b[0m | \u001b[0m 0.9     \u001b[0m | \u001b[0m 1.0     \u001b[0m | \u001b[0m 15.0    \u001b[0m | \u001b[0m 0.0     \u001b[0m | \u001b[0m 131.8   \u001b[0m | \u001b[0m 0.000517\u001b[0m | \u001b[0m 1.0     \u001b[0m | \u001b[0m 0.95    \u001b[0m |\n",
      "| \u001b[0m 25      \u001b[0m | \u001b[0m 0.4879  \u001b[0m | \u001b[0m 0.95    \u001b[0m | \u001b[0m 0.0     \u001b[0m | \u001b[0m 0.0001  \u001b[0m | \u001b[0m 15.0    \u001b[0m | \u001b[0m 10.0    \u001b[0m | \u001b[0m 240.5   \u001b[0m | \u001b[0m 0.0     \u001b[0m | \u001b[0m 5.0     \u001b[0m | \u001b[0m 0.95    \u001b[0m |\n",
      "| \u001b[0m 26      \u001b[0m | \u001b[0m 0.4383  \u001b[0m | \u001b[0m 0.6061  \u001b[0m | \u001b[0m 0.5987  \u001b[0m | \u001b[0m 0.2828  \u001b[0m | \u001b[0m 14.63   \u001b[0m | \u001b[0m 1.812   \u001b[0m | \u001b[0m 400.9   \u001b[0m | \u001b[0m 0.000275\u001b[0m | \u001b[0m 4.926   \u001b[0m | \u001b[0m 0.6198  \u001b[0m |\n",
      "| \u001b[0m 27      \u001b[0m | \u001b[0m 0.4765  \u001b[0m | \u001b[0m 0.1     \u001b[0m | \u001b[0m 0.9     \u001b[0m | \u001b[0m 1.0     \u001b[0m | \u001b[0m 3.0     \u001b[0m | \u001b[0m 10.0    \u001b[0m | \u001b[0m 256.1   \u001b[0m | \u001b[0m 0.000503\u001b[0m | \u001b[0m 5.0     \u001b[0m | \u001b[0m 0.95    \u001b[0m |\n",
      "| \u001b[0m 28      \u001b[0m | \u001b[0m 0.405   \u001b[0m | \u001b[0m 0.95    \u001b[0m | \u001b[0m 0.9     \u001b[0m | \u001b[0m 1.0     \u001b[0m | \u001b[0m 15.0    \u001b[0m | \u001b[0m 10.0    \u001b[0m | \u001b[0m 50.0    \u001b[0m | \u001b[0m 0.0     \u001b[0m | \u001b[0m 1.0     \u001b[0m | \u001b[0m 0.95    \u001b[0m |\n",
      "| \u001b[0m 29      \u001b[0m | \u001b[0m 0.4068  \u001b[0m | \u001b[0m 0.95    \u001b[0m | \u001b[0m 0.0     \u001b[0m | \u001b[0m 1.0     \u001b[0m | \u001b[0m 15.0    \u001b[0m | \u001b[0m 0.0     \u001b[0m | \u001b[0m 67.64   \u001b[0m | \u001b[0m 7.765e-1\u001b[0m | \u001b[0m 1.0     \u001b[0m | \u001b[0m 0.95    \u001b[0m |\n",
      "| \u001b[0m 30      \u001b[0m | \u001b[0m 0.4772  \u001b[0m | \u001b[0m 0.1     \u001b[0m | \u001b[0m 0.9     \u001b[0m | \u001b[0m 1.0     \u001b[0m | \u001b[0m 15.0    \u001b[0m | \u001b[0m 10.0    \u001b[0m | \u001b[0m 469.4   \u001b[0m | \u001b[0m 0.001   \u001b[0m | \u001b[0m 5.0     \u001b[0m | \u001b[0m 0.95    \u001b[0m |\n",
      "| \u001b[0m 31      \u001b[0m | \u001b[0m 0.4775  \u001b[0m | \u001b[0m 0.1     \u001b[0m | \u001b[0m 0.0     \u001b[0m | \u001b[0m 1.0     \u001b[0m | \u001b[0m 15.0    \u001b[0m | \u001b[0m 10.0    \u001b[0m | \u001b[0m 322.0   \u001b[0m | \u001b[0m 0.001   \u001b[0m | \u001b[0m 5.0     \u001b[0m | \u001b[0m 0.95    \u001b[0m |\n",
      "| \u001b[0m 32      \u001b[0m | \u001b[0m 0.5004  \u001b[0m | \u001b[0m 0.5257  \u001b[0m | \u001b[0m 0.736   \u001b[0m | \u001b[0m 0.09155 \u001b[0m | \u001b[0m 3.765   \u001b[0m | \u001b[0m 0.2149  \u001b[0m | \u001b[0m 455.4   \u001b[0m | \u001b[0m 0.000964\u001b[0m | \u001b[0m 4.793   \u001b[0m | \u001b[0m 0.7859  \u001b[0m |\n",
      "| \u001b[0m 33      \u001b[0m | \u001b[0m 0.4737  \u001b[0m | \u001b[0m 0.1     \u001b[0m | \u001b[0m 0.9     \u001b[0m | \u001b[0m 1.0     \u001b[0m | \u001b[0m 3.0     \u001b[0m | \u001b[0m 0.0     \u001b[0m | \u001b[0m 138.8   \u001b[0m | \u001b[0m 0.000690\u001b[0m | \u001b[0m 5.0     \u001b[0m | \u001b[0m 0.1     \u001b[0m |\n",
      "| \u001b[0m 34      \u001b[0m | \u001b[0m 0.4876  \u001b[0m | \u001b[0m 0.95    \u001b[0m | \u001b[0m 0.9     \u001b[0m | \u001b[0m 1.0     \u001b[0m | \u001b[0m 3.0     \u001b[0m | \u001b[0m 10.0    \u001b[0m | \u001b[0m 78.41   \u001b[0m | \u001b[0m 0.000400\u001b[0m | \u001b[0m 5.0     \u001b[0m | \u001b[0m 0.95    \u001b[0m |\n",
      "| \u001b[0m 35      \u001b[0m | \u001b[0m 0.3857  \u001b[0m | \u001b[0m 0.1     \u001b[0m | \u001b[0m 0.9     \u001b[0m | \u001b[0m 0.0001  \u001b[0m | \u001b[0m 3.0     \u001b[0m | \u001b[0m 0.0     \u001b[0m | \u001b[0m 229.5   \u001b[0m | \u001b[0m 0.0     \u001b[0m | \u001b[0m 5.0     \u001b[0m | \u001b[0m 0.95    \u001b[0m |\n",
      "| \u001b[0m 36      \u001b[0m | \u001b[0m 0.04805 \u001b[0m | \u001b[0m 0.1     \u001b[0m | \u001b[0m 0.0     \u001b[0m | \u001b[0m 0.0001  \u001b[0m | \u001b[0m 15.0    \u001b[0m | \u001b[0m 10.0    \u001b[0m | \u001b[0m 298.7   \u001b[0m | \u001b[0m 0.0     \u001b[0m | \u001b[0m 1.0     \u001b[0m | \u001b[0m 0.95    \u001b[0m |\n",
      "| \u001b[0m 37      \u001b[0m | \u001b[0m 0.4961  \u001b[0m | \u001b[0m 0.4063  \u001b[0m | \u001b[0m 0.4947  \u001b[0m | \u001b[0m 0.3888  \u001b[0m | \u001b[0m 4.016   \u001b[0m | \u001b[0m 9.798   \u001b[0m | \u001b[0m 343.0   \u001b[0m | \u001b[0m 0.000706\u001b[0m | \u001b[0m 4.728   \u001b[0m | \u001b[0m 0.4068  \u001b[0m |\n",
      "| \u001b[0m 38      \u001b[0m | \u001b[0m 0.3806  \u001b[0m | \u001b[0m 0.95    \u001b[0m | \u001b[0m 0.9     \u001b[0m | \u001b[0m 1.0     \u001b[0m | \u001b[0m 15.0    \u001b[0m | \u001b[0m 0.0     \u001b[0m | \u001b[0m 259.0   \u001b[0m | \u001b[0m 0.000911\u001b[0m | \u001b[0m 5.0     \u001b[0m | \u001b[0m 0.1     \u001b[0m |\n",
      "| \u001b[0m 39      \u001b[0m | \u001b[0m 0.3909  \u001b[0m | \u001b[0m 0.95    \u001b[0m | \u001b[0m 0.9     \u001b[0m | \u001b[0m 0.0001  \u001b[0m | \u001b[0m 3.0     \u001b[0m | \u001b[0m 0.0     \u001b[0m | \u001b[0m 329.1   \u001b[0m | \u001b[0m 1.192e-0\u001b[0m | \u001b[0m 5.0     \u001b[0m | \u001b[0m 0.1     \u001b[0m |\n",
      "| \u001b[0m 40      \u001b[0m | \u001b[0m 0.49    \u001b[0m | \u001b[0m 0.95    \u001b[0m | \u001b[0m 0.9     \u001b[0m | \u001b[0m 0.0001  \u001b[0m | \u001b[0m 15.0    \u001b[0m | \u001b[0m 10.0    \u001b[0m | \u001b[0m 339.1   \u001b[0m | \u001b[0m 0.001   \u001b[0m | \u001b[0m 5.0     \u001b[0m | \u001b[0m 0.1     \u001b[0m |\n",
      "| \u001b[0m 41      \u001b[0m | \u001b[0m 0.4318  \u001b[0m | \u001b[0m 0.95    \u001b[0m | \u001b[0m 0.9     \u001b[0m | \u001b[0m 0.0001  \u001b[0m | \u001b[0m 3.0     \u001b[0m | \u001b[0m 10.0    \u001b[0m | \u001b[0m 375.9   \u001b[0m | \u001b[0m 0.001   \u001b[0m | \u001b[0m 5.0     \u001b[0m | \u001b[0m 0.95    \u001b[0m |\n",
      "| \u001b[0m 42      \u001b[0m | \u001b[0m 0.3915  \u001b[0m | \u001b[0m 0.95    \u001b[0m | \u001b[0m 0.0     \u001b[0m | \u001b[0m 0.0001  \u001b[0m | \u001b[0m 3.0     \u001b[0m | \u001b[0m 10.0    \u001b[0m | \u001b[0m 460.1   \u001b[0m | \u001b[0m 0.000334\u001b[0m | \u001b[0m 5.0     \u001b[0m | \u001b[0m 0.1     \u001b[0m |\n",
      "| \u001b[0m 43      \u001b[0m | \u001b[0m 0.3138  \u001b[0m | \u001b[0m 0.1     \u001b[0m | \u001b[0m 0.0     \u001b[0m | \u001b[0m 1.0     \u001b[0m | \u001b[0m 15.0    \u001b[0m | \u001b[0m 0.0     \u001b[0m | \u001b[0m 436.2   \u001b[0m | \u001b[0m 0.000739\u001b[0m | \u001b[0m 5.0     \u001b[0m | \u001b[0m 0.1     \u001b[0m |\n",
      "| \u001b[0m 44      \u001b[0m | \u001b[0m 0.4087  \u001b[0m | \u001b[0m 0.1     \u001b[0m | \u001b[0m 0.9     \u001b[0m | \u001b[0m 1.0     \u001b[0m | \u001b[0m 3.0     \u001b[0m | \u001b[0m 0.0     \u001b[0m | \u001b[0m 466.6   \u001b[0m | \u001b[0m 0.0     \u001b[0m | \u001b[0m 1.0     \u001b[0m | \u001b[0m 0.95    \u001b[0m |\n",
      "| \u001b[0m 45      \u001b[0m | \u001b[0m 0.49    \u001b[0m | \u001b[0m 0.95    \u001b[0m | \u001b[0m 0.0     \u001b[0m | \u001b[0m 0.0001  \u001b[0m | \u001b[0m 15.0    \u001b[0m | \u001b[0m 10.0    \u001b[0m | \u001b[0m 217.2   \u001b[0m | \u001b[0m 0.000964\u001b[0m | \u001b[0m 5.0     \u001b[0m | \u001b[0m 0.1     \u001b[0m |\n",
      "| \u001b[0m 46      \u001b[0m | \u001b[0m 0.4665  \u001b[0m | \u001b[0m 0.95    \u001b[0m | \u001b[0m 0.0     \u001b[0m | \u001b[0m 1.0     \u001b[0m | \u001b[0m 3.0     \u001b[0m | \u001b[0m 10.0    \u001b[0m | \u001b[0m 328.4   \u001b[0m | \u001b[0m 0.001   \u001b[0m | \u001b[0m 5.0     \u001b[0m | \u001b[0m 0.1     \u001b[0m |\n",
      "| \u001b[0m 47      \u001b[0m | \u001b[0m 0.4323  \u001b[0m | \u001b[0m 0.95    \u001b[0m | \u001b[0m 0.0     \u001b[0m | \u001b[0m 0.0001  \u001b[0m | \u001b[0m 3.0     \u001b[0m | \u001b[0m 10.0    \u001b[0m | \u001b[0m 275.5   \u001b[0m | \u001b[0m 0.001   \u001b[0m | \u001b[0m 5.0     \u001b[0m | \u001b[0m 0.95    \u001b[0m |\n",
      "| \u001b[0m 48      \u001b[0m | \u001b[0m 0.4162  \u001b[0m | \u001b[0m 0.95    \u001b[0m | \u001b[0m 0.0     \u001b[0m | \u001b[0m 0.0001  \u001b[0m | \u001b[0m 15.0    \u001b[0m | \u001b[0m 0.0     \u001b[0m | \u001b[0m 156.4   \u001b[0m | \u001b[0m 0.000993\u001b[0m | \u001b[0m 1.0     \u001b[0m | \u001b[0m 0.95    \u001b[0m |\n",
      "| \u001b[0m 49      \u001b[0m | \u001b[0m 0.4177  \u001b[0m | \u001b[0m 0.5349  \u001b[0m | \u001b[0m 0.4455  \u001b[0m | \u001b[0m 0.6843  \u001b[0m | \u001b[0m 14.93   \u001b[0m | \u001b[0m 9.437   \u001b[0m | \u001b[0m 406.4   \u001b[0m | \u001b[0m 0.000904\u001b[0m | \u001b[0m 4.3     \u001b[0m | \u001b[0m 0.649   \u001b[0m |\n",
      "| \u001b[0m 50      \u001b[0m | \u001b[0m 0.4773  \u001b[0m | \u001b[0m 0.1     \u001b[0m | \u001b[0m 0.9     \u001b[0m | \u001b[0m 1.0     \u001b[0m | \u001b[0m 15.0    \u001b[0m | \u001b[0m 0.0     \u001b[0m | \u001b[0m 490.6   \u001b[0m | \u001b[0m 0.001   \u001b[0m | \u001b[0m 5.0     \u001b[0m | \u001b[0m 0.95    \u001b[0m |\n",
      "| \u001b[0m 51      \u001b[0m | \u001b[0m 0.4072  \u001b[0m | \u001b[0m 0.1     \u001b[0m | \u001b[0m 0.0     \u001b[0m | \u001b[0m 1.0     \u001b[0m | \u001b[0m 3.0     \u001b[0m | \u001b[0m 10.0    \u001b[0m | \u001b[0m 100.7   \u001b[0m | \u001b[0m 1.454e-0\u001b[0m | \u001b[0m 1.0     \u001b[0m | \u001b[0m 0.95    \u001b[0m |\n",
      "| \u001b[0m 52      \u001b[0m | \u001b[0m 0.4141  \u001b[0m | \u001b[0m 0.95    \u001b[0m | \u001b[0m 0.9     \u001b[0m | \u001b[0m 0.0001  \u001b[0m | \u001b[0m 15.0    \u001b[0m | \u001b[0m 10.0    \u001b[0m | \u001b[0m 484.9   \u001b[0m | \u001b[0m 1.654e-1\u001b[0m | \u001b[0m 1.0     \u001b[0m | \u001b[0m 0.95    \u001b[0m |\n",
      "| \u001b[0m 53      \u001b[0m | \u001b[0m 0.4873  \u001b[0m | \u001b[0m 0.58    \u001b[0m | \u001b[0m 0.4729  \u001b[0m | \u001b[0m 0.8085  \u001b[0m | \u001b[0m 3.189   \u001b[0m | \u001b[0m 0.06146 \u001b[0m | \u001b[0m 103.6   \u001b[0m | \u001b[0m 0.000605\u001b[0m | \u001b[0m 4.883   \u001b[0m | \u001b[0m 0.6951  \u001b[0m |\n",
      "| \u001b[0m 54      \u001b[0m | \u001b[0m 0.3925  \u001b[0m | \u001b[0m 0.1     \u001b[0m | \u001b[0m 0.0     \u001b[0m | \u001b[0m 0.0001  \u001b[0m | \u001b[0m 15.0    \u001b[0m | \u001b[0m 10.0    \u001b[0m | \u001b[0m 261.0   \u001b[0m | \u001b[0m 0.001   \u001b[0m | \u001b[0m 5.0     \u001b[0m | \u001b[0m 0.1     \u001b[0m |\n",
      "| \u001b[0m 55      \u001b[0m | \u001b[0m 0.462   \u001b[0m | \u001b[0m 0.95    \u001b[0m | \u001b[0m 0.9     \u001b[0m | \u001b[0m 1.0     \u001b[0m | \u001b[0m 3.0     \u001b[0m | \u001b[0m 10.0    \u001b[0m | \u001b[0m 232.2   \u001b[0m | \u001b[0m 3.7e-05 \u001b[0m | \u001b[0m 5.0     \u001b[0m | \u001b[0m 0.1     \u001b[0m |\n",
      "| \u001b[0m 56      \u001b[0m | \u001b[0m 0.3892  \u001b[0m | \u001b[0m 0.1     \u001b[0m | \u001b[0m 0.9     \u001b[0m | \u001b[0m 0.0001  \u001b[0m | \u001b[0m 3.0     \u001b[0m | \u001b[0m 0.0     \u001b[0m | \u001b[0m 390.5   \u001b[0m | \u001b[0m 0.0     \u001b[0m | \u001b[0m 5.0     \u001b[0m | \u001b[0m 0.1     \u001b[0m |\n",
      "| \u001b[0m 57      \u001b[0m | \u001b[0m 0.4322  \u001b[0m | \u001b[0m 0.95    \u001b[0m | \u001b[0m 0.9     \u001b[0m | \u001b[0m 0.0001  \u001b[0m | \u001b[0m 3.0     \u001b[0m | \u001b[0m 10.0    \u001b[0m | \u001b[0m 175.4   \u001b[0m | \u001b[0m 7.104e-1\u001b[0m | \u001b[0m 5.0     \u001b[0m | \u001b[0m 0.95    \u001b[0m |\n",
      "| \u001b[0m 58      \u001b[0m | \u001b[0m 0.3995  \u001b[0m | \u001b[0m 0.95    \u001b[0m | \u001b[0m 0.9     \u001b[0m | \u001b[0m 1.0     \u001b[0m | \u001b[0m 15.0    \u001b[0m | \u001b[0m 10.0    \u001b[0m | \u001b[0m 227.8   \u001b[0m | \u001b[0m 0.001   \u001b[0m | \u001b[0m 1.0     \u001b[0m | \u001b[0m 0.95    \u001b[0m |\n",
      "| \u001b[0m 59      \u001b[0m | \u001b[0m 0.4317  \u001b[0m | \u001b[0m 0.95    \u001b[0m | \u001b[0m 0.9     \u001b[0m | \u001b[0m 0.0001  \u001b[0m | \u001b[0m 3.0     \u001b[0m | \u001b[0m 0.0     \u001b[0m | \u001b[0m 482.4   \u001b[0m | \u001b[0m 3.012e-1\u001b[0m | \u001b[0m 5.0     \u001b[0m | \u001b[0m 0.95    \u001b[0m |\n",
      "| \u001b[0m 60      \u001b[0m | \u001b[0m 0.467   \u001b[0m | \u001b[0m 0.95    \u001b[0m | \u001b[0m 0.9     \u001b[0m | \u001b[0m 1.0     \u001b[0m | \u001b[0m 3.0     \u001b[0m | \u001b[0m 0.0     \u001b[0m | \u001b[0m 278.6   \u001b[0m | \u001b[0m 0.0     \u001b[0m | \u001b[0m 5.0     \u001b[0m | \u001b[0m 0.1     \u001b[0m |\n",
      "| \u001b[0m 61      \u001b[0m | \u001b[0m 0.4091  \u001b[0m | \u001b[0m 0.1     \u001b[0m | \u001b[0m 0.9     \u001b[0m | \u001b[0m 1.0     \u001b[0m | \u001b[0m 3.0     \u001b[0m | \u001b[0m 0.0     \u001b[0m | \u001b[0m 441.7   \u001b[0m | \u001b[0m 0.0     \u001b[0m | \u001b[0m 1.0     \u001b[0m | \u001b[0m 0.95    \u001b[0m |\n",
      "| \u001b[0m 62      \u001b[0m | \u001b[0m 0.3794  \u001b[0m | \u001b[0m 0.1     \u001b[0m | \u001b[0m 0.9     \u001b[0m | \u001b[0m 0.0001  \u001b[0m | \u001b[0m 3.0     \u001b[0m | \u001b[0m 0.0     \u001b[0m | \u001b[0m 71.69   \u001b[0m | \u001b[0m 0.0     \u001b[0m | \u001b[0m 5.0     \u001b[0m | \u001b[0m 0.1     \u001b[0m |\n",
      "| \u001b[0m 63      \u001b[0m | \u001b[0m 0.4661  \u001b[0m | \u001b[0m 0.1     \u001b[0m | \u001b[0m 0.0     \u001b[0m | \u001b[0m 1.0     \u001b[0m | \u001b[0m 3.0     \u001b[0m | \u001b[0m 10.0    \u001b[0m | \u001b[0m 494.6   \u001b[0m | \u001b[0m 0.001   \u001b[0m | \u001b[0m 5.0     \u001b[0m | \u001b[0m 0.1     \u001b[0m |\n",
      "| \u001b[0m 64      \u001b[0m | \u001b[0m 0.2941  \u001b[0m | \u001b[0m 0.1     \u001b[0m | \u001b[0m 0.9     \u001b[0m | \u001b[0m 1.0     \u001b[0m | \u001b[0m 15.0    \u001b[0m | \u001b[0m 0.0     \u001b[0m | \u001b[0m 456.3   \u001b[0m | \u001b[0m 0.0     \u001b[0m | \u001b[0m 5.0     \u001b[0m | \u001b[0m 0.1     \u001b[0m |\n",
      "| \u001b[0m 65      \u001b[0m | \u001b[0m 0.3876  \u001b[0m | \u001b[0m 0.1     \u001b[0m | \u001b[0m 0.0     \u001b[0m | \u001b[0m 0.0001  \u001b[0m | \u001b[0m 15.0    \u001b[0m | \u001b[0m 0.0     \u001b[0m | \u001b[0m 110.1   \u001b[0m | \u001b[0m 9.449e-0\u001b[0m | \u001b[0m 5.0     \u001b[0m | \u001b[0m 0.95    \u001b[0m |\n",
      "| \u001b[0m 66      \u001b[0m | \u001b[0m 0.4775  \u001b[0m | \u001b[0m 0.1     \u001b[0m | \u001b[0m 0.0     \u001b[0m | \u001b[0m 1.0     \u001b[0m | \u001b[0m 3.0     \u001b[0m | \u001b[0m 10.0    \u001b[0m | \u001b[0m 437.7   \u001b[0m | \u001b[0m 0.000981\u001b[0m | \u001b[0m 5.0     \u001b[0m | \u001b[0m 0.95    \u001b[0m |\n",
      "| \u001b[0m 67      \u001b[0m | \u001b[0m 0.4879  \u001b[0m | \u001b[0m 0.95    \u001b[0m | \u001b[0m 0.9     \u001b[0m | \u001b[0m 0.0001  \u001b[0m | \u001b[0m 15.0    \u001b[0m | \u001b[0m 10.0    \u001b[0m | \u001b[0m 195.8   \u001b[0m | \u001b[0m 0.001   \u001b[0m | \u001b[0m 5.0     \u001b[0m | \u001b[0m 0.95    \u001b[0m |\n",
      "| \u001b[0m 68      \u001b[0m | \u001b[0m 0.4889  \u001b[0m | \u001b[0m 0.95    \u001b[0m | \u001b[0m 0.0     \u001b[0m | \u001b[0m 0.0001  \u001b[0m | \u001b[0m 15.0    \u001b[0m | \u001b[0m 10.0    \u001b[0m | \u001b[0m 61.64   \u001b[0m | \u001b[0m 3.052e-1\u001b[0m | \u001b[0m 5.0     \u001b[0m | \u001b[0m 0.95    \u001b[0m |\n",
      "| \u001b[0m 69      \u001b[0m | \u001b[0m 0.4896  \u001b[0m | \u001b[0m 0.95    \u001b[0m | \u001b[0m 0.9     \u001b[0m | \u001b[0m 0.0001  \u001b[0m | \u001b[0m 15.0    \u001b[0m | \u001b[0m 10.0    \u001b[0m | \u001b[0m 166.2   \u001b[0m | \u001b[0m 0.0     \u001b[0m | \u001b[0m 5.0     \u001b[0m | \u001b[0m 0.1     \u001b[0m |\n",
      "| \u001b[0m 70      \u001b[0m | \u001b[0m 0.4142  \u001b[0m | \u001b[0m 0.95    \u001b[0m | \u001b[0m 0.0     \u001b[0m | \u001b[0m 1.0     \u001b[0m | \u001b[0m 15.0    \u001b[0m | \u001b[0m 10.0    \u001b[0m | \u001b[0m 376.6   \u001b[0m | \u001b[0m 0.001   \u001b[0m | \u001b[0m 5.0     \u001b[0m | \u001b[0m 0.95    \u001b[0m |\n",
      "| \u001b[0m 71      \u001b[0m | \u001b[0m 0.4322  \u001b[0m | \u001b[0m 0.95    \u001b[0m | \u001b[0m 0.0     \u001b[0m | \u001b[0m 0.0001  \u001b[0m | \u001b[0m 3.0     \u001b[0m | \u001b[0m 10.0    \u001b[0m | \u001b[0m 149.5   \u001b[0m | \u001b[0m 0.001   \u001b[0m | \u001b[0m 5.0     \u001b[0m | \u001b[0m 0.95    \u001b[0m |\n",
      "| \u001b[0m 72      \u001b[0m | \u001b[0m 0.4655  \u001b[0m | \u001b[0m 0.1     \u001b[0m | \u001b[0m 0.0     \u001b[0m | \u001b[0m 1.0     \u001b[0m | \u001b[0m 15.0    \u001b[0m | \u001b[0m 10.0    \u001b[0m | \u001b[0m 482.0   \u001b[0m | \u001b[0m 0.001   \u001b[0m | \u001b[0m 5.0     \u001b[0m | \u001b[0m 0.1     \u001b[0m |\n",
      "| \u001b[0m 73      \u001b[0m | \u001b[0m 0.4167  \u001b[0m | \u001b[0m 0.6799  \u001b[0m | \u001b[0m 0.4133  \u001b[0m | \u001b[0m 0.7547  \u001b[0m | \u001b[0m 3.336   \u001b[0m | \u001b[0m 0.1605  \u001b[0m | \u001b[0m 119.1   \u001b[0m | \u001b[0m 9.805e-0\u001b[0m | \u001b[0m 1.091   \u001b[0m | \u001b[0m 0.2413  \u001b[0m |\n",
      "| \u001b[0m 74      \u001b[0m | \u001b[0m 0.4849  \u001b[0m | \u001b[0m 0.95    \u001b[0m | \u001b[0m 0.9     \u001b[0m | \u001b[0m 0.0001  \u001b[0m | \u001b[0m 15.0    \u001b[0m | \u001b[0m 0.0     \u001b[0m | \u001b[0m 279.4   \u001b[0m | \u001b[0m 0.001   \u001b[0m | \u001b[0m 5.0     \u001b[0m | \u001b[0m 0.1     \u001b[0m |\n",
      "| \u001b[0m 75      \u001b[0m | \u001b[0m 0.4871  \u001b[0m | \u001b[0m 0.95    \u001b[0m | \u001b[0m 0.9     \u001b[0m | \u001b[0m 1.0     \u001b[0m | \u001b[0m 3.0     \u001b[0m | \u001b[0m 10.0    \u001b[0m | \u001b[0m 50.0    \u001b[0m | \u001b[0m 5.651e-0\u001b[0m | \u001b[0m 5.0     \u001b[0m | \u001b[0m 0.95    \u001b[0m |\n",
      "| \u001b[0m 76      \u001b[0m | \u001b[0m 0.485   \u001b[0m | \u001b[0m 0.95    \u001b[0m | \u001b[0m 0.9     \u001b[0m | \u001b[0m 0.0001  \u001b[0m | \u001b[0m 15.0    \u001b[0m | \u001b[0m 0.0     \u001b[0m | \u001b[0m 384.7   \u001b[0m | \u001b[0m 0.0     \u001b[0m | \u001b[0m 5.0     \u001b[0m | \u001b[0m 0.1     \u001b[0m |\n",
      "| \u001b[0m 77      \u001b[0m | \u001b[0m 0.488   \u001b[0m | \u001b[0m 0.95    \u001b[0m | \u001b[0m 0.9     \u001b[0m | \u001b[0m 0.0001  \u001b[0m | \u001b[0m 15.0    \u001b[0m | \u001b[0m 10.0    \u001b[0m | \u001b[0m 427.0   \u001b[0m | \u001b[0m 0.001   \u001b[0m | \u001b[0m 5.0     \u001b[0m | \u001b[0m 0.95    \u001b[0m |\n",
      "| \u001b[0m 78      \u001b[0m | \u001b[0m 0.4318  \u001b[0m | \u001b[0m 0.95    \u001b[0m | \u001b[0m 0.9     \u001b[0m | \u001b[0m 0.0001  \u001b[0m | \u001b[0m 3.0     \u001b[0m | \u001b[0m 0.0     \u001b[0m | \u001b[0m 353.7   \u001b[0m | \u001b[0m 3.15e-08\u001b[0m | \u001b[0m 5.0     \u001b[0m | \u001b[0m 0.95    \u001b[0m |\n",
      "| \u001b[0m 79      \u001b[0m | \u001b[0m 0.3917  \u001b[0m | \u001b[0m 0.95    \u001b[0m | \u001b[0m 0.9     \u001b[0m | \u001b[0m 0.0001  \u001b[0m | \u001b[0m 3.0     \u001b[0m | \u001b[0m 10.0    \u001b[0m | \u001b[0m 355.8   \u001b[0m | \u001b[0m 0.0     \u001b[0m | \u001b[0m 5.0     \u001b[0m | \u001b[0m 0.1     \u001b[0m |\n",
      "| \u001b[0m 80      \u001b[0m | \u001b[0m 0.4179  \u001b[0m | \u001b[0m 0.95    \u001b[0m | \u001b[0m 0.9     \u001b[0m | \u001b[0m 1.0     \u001b[0m | \u001b[0m 15.0    \u001b[0m | \u001b[0m 0.0     \u001b[0m | \u001b[0m 337.7   \u001b[0m | \u001b[0m 0.0     \u001b[0m | \u001b[0m 5.0     \u001b[0m | \u001b[0m 0.95    \u001b[0m |\n",
      "| \u001b[0m 81      \u001b[0m | \u001b[0m 0.4325  \u001b[0m | \u001b[0m 0.95    \u001b[0m | \u001b[0m 0.9     \u001b[0m | \u001b[0m 0.0001  \u001b[0m | \u001b[0m 3.0     \u001b[0m | \u001b[0m 10.0    \u001b[0m | \u001b[0m 244.8   \u001b[0m | \u001b[0m 2.579e-1\u001b[0m | \u001b[0m 5.0     \u001b[0m | \u001b[0m 0.95    \u001b[0m |\n",
      "| \u001b[0m 82      \u001b[0m | \u001b[0m 0.467   \u001b[0m | \u001b[0m 0.95    \u001b[0m | \u001b[0m 0.0     \u001b[0m | \u001b[0m 1.0     \u001b[0m | \u001b[0m 3.0     \u001b[0m | \u001b[0m 10.0    \u001b[0m | \u001b[0m 195.9   \u001b[0m | \u001b[0m 0.0     \u001b[0m | \u001b[0m 5.0     \u001b[0m | \u001b[0m 0.1     \u001b[0m |\n",
      "| \u001b[0m 83      \u001b[0m | \u001b[0m 0.3953  \u001b[0m | \u001b[0m 0.1     \u001b[0m | \u001b[0m 0.9     \u001b[0m | \u001b[0m 0.0001  \u001b[0m | \u001b[0m 9.124   \u001b[0m | \u001b[0m 10.0    \u001b[0m | \u001b[0m 332.4   \u001b[0m | \u001b[0m 0.001   \u001b[0m | \u001b[0m 5.0     \u001b[0m | \u001b[0m 0.95    \u001b[0m |\n",
      "| \u001b[0m 84      \u001b[0m | \u001b[0m 0.2976  \u001b[0m | \u001b[0m 0.1     \u001b[0m | \u001b[0m 0.9     \u001b[0m | \u001b[0m 1.0     \u001b[0m | \u001b[0m 15.0    \u001b[0m | \u001b[0m 0.0     \u001b[0m | \u001b[0m 151.3   \u001b[0m | \u001b[0m 0.001   \u001b[0m | \u001b[0m 5.0     \u001b[0m | \u001b[0m 0.1     \u001b[0m |\n",
      "| \u001b[0m 85      \u001b[0m | \u001b[0m 0.3848  \u001b[0m | \u001b[0m 0.95    \u001b[0m | \u001b[0m 0.0     \u001b[0m | \u001b[0m 1.0     \u001b[0m | \u001b[0m 15.0    \u001b[0m | \u001b[0m 0.0     \u001b[0m | \u001b[0m 313.1   \u001b[0m | \u001b[0m 0.0     \u001b[0m | \u001b[0m 5.0     \u001b[0m | \u001b[0m 0.1     \u001b[0m |\n",
      "| \u001b[0m 86      \u001b[0m | \u001b[0m 0.3483  \u001b[0m | \u001b[0m 0.95    \u001b[0m | \u001b[0m 0.0     \u001b[0m | \u001b[0m 0.0001  \u001b[0m | \u001b[0m 3.0     \u001b[0m | \u001b[0m 0.0     \u001b[0m | \u001b[0m 145.3   \u001b[0m | \u001b[0m 0.000109\u001b[0m | \u001b[0m 1.0     \u001b[0m | \u001b[0m 0.1     \u001b[0m |\n",
      "| \u001b[0m 87      \u001b[0m | \u001b[0m 0.3936  \u001b[0m | \u001b[0m 0.9267  \u001b[0m | \u001b[0m 0.3652  \u001b[0m | \u001b[0m 0.02097 \u001b[0m | \u001b[0m 3.581   \u001b[0m | \u001b[0m 0.3363  \u001b[0m | \u001b[0m 170.9   \u001b[0m | \u001b[0m 0.000998\u001b[0m | \u001b[0m 1.056   \u001b[0m | \u001b[0m 0.2381  \u001b[0m |\n",
      "| \u001b[0m 88      \u001b[0m | \u001b[0m 0.4081  \u001b[0m | \u001b[0m 0.1     \u001b[0m | \u001b[0m 0.0     \u001b[0m | \u001b[0m 1.0     \u001b[0m | \u001b[0m 15.0    \u001b[0m | \u001b[0m 10.0    \u001b[0m | \u001b[0m 177.8   \u001b[0m | \u001b[0m 0.001   \u001b[0m | \u001b[0m 1.0     \u001b[0m | \u001b[0m 0.95    \u001b[0m |\n"
     ]
    },
    {
     "ename": "KeyboardInterrupt",
     "evalue": "",
     "output_type": "error",
     "traceback": [
      "\u001b[1;31m---------------------------------------------------------------------------\u001b[0m",
      "\u001b[1;31mKeyError\u001b[0m                                  Traceback (most recent call last)",
      "\u001b[1;32mE:\\program\\anaconda\\envs\\torch\\lib\\site-packages\\bayes_opt\\target_space.py\u001b[0m in \u001b[0;36mprobe\u001b[1;34m(self, params)\u001b[0m\n\u001b[0;32m    190\u001b[0m         \u001b[1;32mtry\u001b[0m\u001b[1;33m:\u001b[0m\u001b[1;33m\u001b[0m\u001b[1;33m\u001b[0m\u001b[0m\n\u001b[1;32m--> 191\u001b[1;33m             \u001b[0mtarget\u001b[0m \u001b[1;33m=\u001b[0m \u001b[0mself\u001b[0m\u001b[1;33m.\u001b[0m\u001b[0m_cache\u001b[0m\u001b[1;33m[\u001b[0m\u001b[0m_hashable\u001b[0m\u001b[1;33m(\u001b[0m\u001b[0mx\u001b[0m\u001b[1;33m)\u001b[0m\u001b[1;33m]\u001b[0m\u001b[1;33m\u001b[0m\u001b[1;33m\u001b[0m\u001b[0m\n\u001b[0m\u001b[0;32m    192\u001b[0m         \u001b[1;32mexcept\u001b[0m \u001b[0mKeyError\u001b[0m\u001b[1;33m:\u001b[0m\u001b[1;33m\u001b[0m\u001b[1;33m\u001b[0m\u001b[0m\n",
      "\u001b[1;31mKeyError\u001b[0m: (0.95, 0.0, 1.0, 15.0, 0.0, 208.6965126936294, 0.0, 5.0, 0.95)",
      "\nDuring handling of the above exception, another exception occurred:\n",
      "\u001b[1;31mKeyboardInterrupt\u001b[0m                         Traceback (most recent call last)",
      "\u001b[1;32m<ipython-input-26-4f6b9349beb7>\u001b[0m in \u001b[0;36m<module>\u001b[1;34m\u001b[0m\n\u001b[1;32m----> 1\u001b[1;33m \u001b[0moptimizer\u001b[0m\u001b[1;33m.\u001b[0m\u001b[0mmaximize\u001b[0m\u001b[1;33m(\u001b[0m\u001b[0mn_iter\u001b[0m\u001b[1;33m=\u001b[0m\u001b[1;36m100\u001b[0m\u001b[1;33m)\u001b[0m\u001b[1;33m\u001b[0m\u001b[1;33m\u001b[0m\u001b[0m\n\u001b[0m",
      "\u001b[1;32mE:\\program\\anaconda\\envs\\torch\\lib\\site-packages\\bayes_opt\\bayesian_optimization.py\u001b[0m in \u001b[0;36mmaximize\u001b[1;34m(self, init_points, n_iter, acq, kappa, xi, **gp_params)\u001b[0m\n\u001b[0;32m    172\u001b[0m                 \u001b[0miteration\u001b[0m \u001b[1;33m+=\u001b[0m \u001b[1;36m1\u001b[0m\u001b[1;33m\u001b[0m\u001b[1;33m\u001b[0m\u001b[0m\n\u001b[0;32m    173\u001b[0m \u001b[1;33m\u001b[0m\u001b[0m\n\u001b[1;32m--> 174\u001b[1;33m             \u001b[0mself\u001b[0m\u001b[1;33m.\u001b[0m\u001b[0mprobe\u001b[0m\u001b[1;33m(\u001b[0m\u001b[0mx_probe\u001b[0m\u001b[1;33m,\u001b[0m \u001b[0mlazy\u001b[0m\u001b[1;33m=\u001b[0m\u001b[1;32mFalse\u001b[0m\u001b[1;33m)\u001b[0m\u001b[1;33m\u001b[0m\u001b[1;33m\u001b[0m\u001b[0m\n\u001b[0m\u001b[0;32m    175\u001b[0m \u001b[1;33m\u001b[0m\u001b[0m\n\u001b[0;32m    176\u001b[0m         \u001b[0mself\u001b[0m\u001b[1;33m.\u001b[0m\u001b[0mdispatch\u001b[0m\u001b[1;33m(\u001b[0m\u001b[0mEvents\u001b[0m\u001b[1;33m.\u001b[0m\u001b[0mOPTIMIZATION_END\u001b[0m\u001b[1;33m)\u001b[0m\u001b[1;33m\u001b[0m\u001b[1;33m\u001b[0m\u001b[0m\n",
      "\u001b[1;32mE:\\program\\anaconda\\envs\\torch\\lib\\site-packages\\bayes_opt\\bayesian_optimization.py\u001b[0m in \u001b[0;36mprobe\u001b[1;34m(self, params, lazy)\u001b[0m\n\u001b[0;32m    110\u001b[0m             \u001b[0mself\u001b[0m\u001b[1;33m.\u001b[0m\u001b[0m_queue\u001b[0m\u001b[1;33m.\u001b[0m\u001b[0madd\u001b[0m\u001b[1;33m(\u001b[0m\u001b[0mparams\u001b[0m\u001b[1;33m)\u001b[0m\u001b[1;33m\u001b[0m\u001b[1;33m\u001b[0m\u001b[0m\n\u001b[0;32m    111\u001b[0m         \u001b[1;32melse\u001b[0m\u001b[1;33m:\u001b[0m\u001b[1;33m\u001b[0m\u001b[1;33m\u001b[0m\u001b[0m\n\u001b[1;32m--> 112\u001b[1;33m             \u001b[0mself\u001b[0m\u001b[1;33m.\u001b[0m\u001b[0m_space\u001b[0m\u001b[1;33m.\u001b[0m\u001b[0mprobe\u001b[0m\u001b[1;33m(\u001b[0m\u001b[0mparams\u001b[0m\u001b[1;33m)\u001b[0m\u001b[1;33m\u001b[0m\u001b[1;33m\u001b[0m\u001b[0m\n\u001b[0m\u001b[0;32m    113\u001b[0m             \u001b[0mself\u001b[0m\u001b[1;33m.\u001b[0m\u001b[0mdispatch\u001b[0m\u001b[1;33m(\u001b[0m\u001b[0mEvents\u001b[0m\u001b[1;33m.\u001b[0m\u001b[0mOPTIMIZATION_STEP\u001b[0m\u001b[1;33m)\u001b[0m\u001b[1;33m\u001b[0m\u001b[1;33m\u001b[0m\u001b[0m\n\u001b[0;32m    114\u001b[0m \u001b[1;33m\u001b[0m\u001b[0m\n",
      "\u001b[1;32mE:\\program\\anaconda\\envs\\torch\\lib\\site-packages\\bayes_opt\\target_space.py\u001b[0m in \u001b[0;36mprobe\u001b[1;34m(self, params)\u001b[0m\n\u001b[0;32m    192\u001b[0m         \u001b[1;32mexcept\u001b[0m \u001b[0mKeyError\u001b[0m\u001b[1;33m:\u001b[0m\u001b[1;33m\u001b[0m\u001b[1;33m\u001b[0m\u001b[0m\n\u001b[0;32m    193\u001b[0m             \u001b[0mparams\u001b[0m \u001b[1;33m=\u001b[0m \u001b[0mdict\u001b[0m\u001b[1;33m(\u001b[0m\u001b[0mzip\u001b[0m\u001b[1;33m(\u001b[0m\u001b[0mself\u001b[0m\u001b[1;33m.\u001b[0m\u001b[0m_keys\u001b[0m\u001b[1;33m,\u001b[0m \u001b[0mx\u001b[0m\u001b[1;33m)\u001b[0m\u001b[1;33m)\u001b[0m\u001b[1;33m\u001b[0m\u001b[1;33m\u001b[0m\u001b[0m\n\u001b[1;32m--> 194\u001b[1;33m             \u001b[0mtarget\u001b[0m \u001b[1;33m=\u001b[0m \u001b[0mself\u001b[0m\u001b[1;33m.\u001b[0m\u001b[0mtarget_func\u001b[0m\u001b[1;33m(\u001b[0m\u001b[1;33m**\u001b[0m\u001b[0mparams\u001b[0m\u001b[1;33m)\u001b[0m\u001b[1;33m\u001b[0m\u001b[1;33m\u001b[0m\u001b[0m\n\u001b[0m\u001b[0;32m    195\u001b[0m             \u001b[0mself\u001b[0m\u001b[1;33m.\u001b[0m\u001b[0mregister\u001b[0m\u001b[1;33m(\u001b[0m\u001b[0mx\u001b[0m\u001b[1;33m,\u001b[0m \u001b[0mtarget\u001b[0m\u001b[1;33m)\u001b[0m\u001b[1;33m\u001b[0m\u001b[1;33m\u001b[0m\u001b[0m\n\u001b[0;32m    196\u001b[0m         \u001b[1;32mreturn\u001b[0m \u001b[0mtarget\u001b[0m\u001b[1;33m\u001b[0m\u001b[1;33m\u001b[0m\u001b[0m\n",
      "\u001b[1;32m<ipython-input-24-67a4b3c3ad9f>\u001b[0m in \u001b[0;36moptim_function\u001b[1;34m(learning_rate, n_estimators, max_depth, min_child_weight, gamma, subsample, colsample_bytree, scale_pos_weight, reg_alpha)\u001b[0m\n\u001b[0;32m     28\u001b[0m                                        )\n\u001b[0;32m     29\u001b[0m \u001b[1;33m\u001b[0m\u001b[0m\n\u001b[1;32m---> 30\u001b[1;33m     \u001b[0mclf\u001b[0m\u001b[1;33m.\u001b[0m\u001b[0mfit\u001b[0m\u001b[1;33m(\u001b[0m\u001b[0mX_train\u001b[0m\u001b[1;33m[\u001b[0m\u001b[1;33m:\u001b[0m\u001b[1;33m,\u001b[0m \u001b[0mmost_important_features\u001b[0m\u001b[1;33m]\u001b[0m\u001b[1;33m,\u001b[0m \u001b[0my_train\u001b[0m\u001b[1;33m)\u001b[0m\u001b[1;33m\u001b[0m\u001b[1;33m\u001b[0m\u001b[0m\n\u001b[0m\u001b[0;32m     31\u001b[0m \u001b[1;33m\u001b[0m\u001b[0m\n\u001b[0;32m     32\u001b[0m     \u001b[0mpred\u001b[0m \u001b[1;33m=\u001b[0m \u001b[0mclf\u001b[0m\u001b[1;33m.\u001b[0m\u001b[0mpredict\u001b[0m\u001b[1;33m(\u001b[0m\u001b[0mX_test\u001b[0m\u001b[1;33m[\u001b[0m\u001b[1;33m:\u001b[0m\u001b[1;33m,\u001b[0m \u001b[0mmost_important_features\u001b[0m\u001b[1;33m]\u001b[0m\u001b[1;33m)\u001b[0m\u001b[1;33m\u001b[0m\u001b[1;33m\u001b[0m\u001b[0m\n",
      "\u001b[1;32mE:\\program\\anaconda\\envs\\torch\\lib\\site-packages\\xgboost\\sklearn.py\u001b[0m in \u001b[0;36mfit\u001b[1;34m(self, X, y, sample_weight, base_margin, eval_set, eval_metric, early_stopping_rounds, verbose, xgb_model, sample_weight_eval_set, callbacks)\u001b[0m\n\u001b[0;32m    815\u001b[0m                                 missing=self.missing, nthread=self.n_jobs)\n\u001b[0;32m    816\u001b[0m \u001b[1;33m\u001b[0m\u001b[0m\n\u001b[1;32m--> 817\u001b[1;33m         self._Booster = train(xgb_options, train_dmatrix,\n\u001b[0m\u001b[0;32m    818\u001b[0m                               \u001b[0mself\u001b[0m\u001b[1;33m.\u001b[0m\u001b[0mget_num_boosting_rounds\u001b[0m\u001b[1;33m(\u001b[0m\u001b[1;33m)\u001b[0m\u001b[1;33m,\u001b[0m\u001b[1;33m\u001b[0m\u001b[1;33m\u001b[0m\u001b[0m\n\u001b[0;32m    819\u001b[0m                               \u001b[0mevals\u001b[0m\u001b[1;33m=\u001b[0m\u001b[0mevals\u001b[0m\u001b[1;33m,\u001b[0m\u001b[1;33m\u001b[0m\u001b[1;33m\u001b[0m\u001b[0m\n",
      "\u001b[1;32mE:\\program\\anaconda\\envs\\torch\\lib\\site-packages\\xgboost\\training.py\u001b[0m in \u001b[0;36mtrain\u001b[1;34m(params, dtrain, num_boost_round, evals, obj, feval, maximize, early_stopping_rounds, evals_result, verbose_eval, xgb_model, callbacks)\u001b[0m\n\u001b[0;32m    203\u001b[0m         \u001b[0mcallbacks\u001b[0m\u001b[1;33m.\u001b[0m\u001b[0mappend\u001b[0m\u001b[1;33m(\u001b[0m\u001b[0mcallback\u001b[0m\u001b[1;33m.\u001b[0m\u001b[0mrecord_evaluation\u001b[0m\u001b[1;33m(\u001b[0m\u001b[0mevals_result\u001b[0m\u001b[1;33m)\u001b[0m\u001b[1;33m)\u001b[0m\u001b[1;33m\u001b[0m\u001b[1;33m\u001b[0m\u001b[0m\n\u001b[0;32m    204\u001b[0m \u001b[1;33m\u001b[0m\u001b[0m\n\u001b[1;32m--> 205\u001b[1;33m     return _train_internal(params, dtrain,\n\u001b[0m\u001b[0;32m    206\u001b[0m                            \u001b[0mnum_boost_round\u001b[0m\u001b[1;33m=\u001b[0m\u001b[0mnum_boost_round\u001b[0m\u001b[1;33m,\u001b[0m\u001b[1;33m\u001b[0m\u001b[1;33m\u001b[0m\u001b[0m\n\u001b[0;32m    207\u001b[0m                            \u001b[0mevals\u001b[0m\u001b[1;33m=\u001b[0m\u001b[0mevals\u001b[0m\u001b[1;33m,\u001b[0m\u001b[1;33m\u001b[0m\u001b[1;33m\u001b[0m\u001b[0m\n",
      "\u001b[1;32mE:\\program\\anaconda\\envs\\torch\\lib\\site-packages\\xgboost\\training.py\u001b[0m in \u001b[0;36m_train_internal\u001b[1;34m(params, dtrain, num_boost_round, evals, obj, feval, xgb_model, callbacks)\u001b[0m\n\u001b[0;32m     72\u001b[0m         \u001b[1;31m# Skip the first update if it is a recovery step.\u001b[0m\u001b[1;33m\u001b[0m\u001b[1;33m\u001b[0m\u001b[1;33m\u001b[0m\u001b[0m\n\u001b[0;32m     73\u001b[0m         \u001b[1;32mif\u001b[0m \u001b[0mversion\u001b[0m \u001b[1;33m%\u001b[0m \u001b[1;36m2\u001b[0m \u001b[1;33m==\u001b[0m \u001b[1;36m0\u001b[0m\u001b[1;33m:\u001b[0m\u001b[1;33m\u001b[0m\u001b[1;33m\u001b[0m\u001b[0m\n\u001b[1;32m---> 74\u001b[1;33m             \u001b[0mbst\u001b[0m\u001b[1;33m.\u001b[0m\u001b[0mupdate\u001b[0m\u001b[1;33m(\u001b[0m\u001b[0mdtrain\u001b[0m\u001b[1;33m,\u001b[0m \u001b[0mi\u001b[0m\u001b[1;33m,\u001b[0m \u001b[0mobj\u001b[0m\u001b[1;33m)\u001b[0m\u001b[1;33m\u001b[0m\u001b[1;33m\u001b[0m\u001b[0m\n\u001b[0m\u001b[0;32m     75\u001b[0m             \u001b[0mbst\u001b[0m\u001b[1;33m.\u001b[0m\u001b[0msave_rabit_checkpoint\u001b[0m\u001b[1;33m(\u001b[0m\u001b[1;33m)\u001b[0m\u001b[1;33m\u001b[0m\u001b[1;33m\u001b[0m\u001b[0m\n\u001b[0;32m     76\u001b[0m             \u001b[0mversion\u001b[0m \u001b[1;33m+=\u001b[0m \u001b[1;36m1\u001b[0m\u001b[1;33m\u001b[0m\u001b[1;33m\u001b[0m\u001b[0m\n",
      "\u001b[1;32mE:\\program\\anaconda\\envs\\torch\\lib\\site-packages\\xgboost\\core.py\u001b[0m in \u001b[0;36mupdate\u001b[1;34m(self, dtrain, iteration, fobj)\u001b[0m\n\u001b[0;32m   1245\u001b[0m \u001b[1;33m\u001b[0m\u001b[0m\n\u001b[0;32m   1246\u001b[0m         \u001b[1;32mif\u001b[0m \u001b[0mfobj\u001b[0m \u001b[1;32mis\u001b[0m \u001b[1;32mNone\u001b[0m\u001b[1;33m:\u001b[0m\u001b[1;33m\u001b[0m\u001b[1;33m\u001b[0m\u001b[0m\n\u001b[1;32m-> 1247\u001b[1;33m             _check_call(_LIB.XGBoosterUpdateOneIter(self.handle,\n\u001b[0m\u001b[0;32m   1248\u001b[0m                                                     \u001b[0mctypes\u001b[0m\u001b[1;33m.\u001b[0m\u001b[0mc_int\u001b[0m\u001b[1;33m(\u001b[0m\u001b[0miteration\u001b[0m\u001b[1;33m)\u001b[0m\u001b[1;33m,\u001b[0m\u001b[1;33m\u001b[0m\u001b[1;33m\u001b[0m\u001b[0m\n\u001b[0;32m   1249\u001b[0m                                                     dtrain.handle))\n",
      "\u001b[1;31mKeyboardInterrupt\u001b[0m: "
     ]
    }
   ],
   "source": [
    "optimizer.maximize(n_iter=100)"
   ]
  },
  {
   "cell_type": "code",
   "execution_count": 32,
   "metadata": {},
   "outputs": [
    {
     "data": {
      "text/plain": [
       "{'target': 0.5004687061446937,\n",
       " 'params': {'colsample_bytree': 0.9125598867458771,\n",
       "  'gamma': 0.41309970007591623,\n",
       "  'learning_rate': 0.2495446719246513,\n",
       "  'max_depth': 3.27021719586084,\n",
       "  'min_child_weight': 0.34796142621455917,\n",
       "  'n_estimators': 155.73578545537174,\n",
       "  'reg_alpha': 0.0006891651003411668,\n",
       "  'scale_pos_weight': 4.1957470427759915,\n",
       "  'subsample': 0.42699958983347897}}"
      ]
     },
     "execution_count": 32,
     "metadata": {},
     "output_type": "execute_result"
    }
   ],
   "source": [
    "optimizer.max"
   ]
  },
  {
   "cell_type": "code",
   "execution_count": null,
   "metadata": {},
   "outputs": [],
   "source": [
    "def optim_function(learning_rate=.1,\n",
    "                   n_estimators=100,\n",
    "                   max_depth=5,\n",
    "                   min_child_weight=1,\n",
    "                   gamma=0,\n",
    "                   subsample=.8,\n",
    "                   colsample_bytree=.8,\n",
    "                   scale_pos_weight=2,\n",
    "                   reg_alpha=0):\n",
    "    \n",
    "    max_depth = int(max_depth)\n",
    "    min_child_weight = int(min_child_weight)\n",
    "    n_estimators = int(n_estimators)\n",
    "    \n",
    "    clf = xgboost.sklearn.XGBClassifier(max_depth=int(max_depth),\n",
    "                                        learning_rate=learning_rate,\n",
    "                                        n_estimators=n_estimators,\n",
    "                                        gamma=gamma,\n",
    "                                        min_child_weight=int(min_child_weight),\n",
    "                                        subsample=subsample,\n",
    "                                        colsample_bytree=colsample_bytree,\n",
    "                                        scale_pos_weight=scale_pos_weight,\n",
    "                                        reg_alpha=reg_alpha,\n",
    "                                        n_jobs=4,\n",
    "                                        tree_method=\"gpu_hist\",\n",
    "                                        seed=41\n",
    "                                       )\n",
    "    \n",
    "    clf.fit(X_train[:, most_important_features], y_train)\n",
    "    \n",
    "    pred = clf.predict(X_test[:, most_important_features])\n",
    "    kappa = cohen_kappa_score(y_test, pred)\n",
    "    return kappa"
   ]
  },
  {
   "cell_type": "code",
   "execution_count": null,
   "metadata": {},
   "outputs": [],
   "source": []
  },
  {
   "cell_type": "code",
   "execution_count": null,
   "metadata": {},
   "outputs": [],
   "source": []
  },
  {
   "cell_type": "code",
   "execution_count": null,
   "metadata": {},
   "outputs": [],
   "source": []
  },
  {
   "cell_type": "code",
   "execution_count": null,
   "metadata": {},
   "outputs": [],
   "source": []
  }
 ],
 "metadata": {
  "kernelspec": {
   "display_name": "Python (pytorch)",
   "language": "python",
   "name": "pytorch"
  },
  "language_info": {
   "codemirror_mode": {
    "name": "ipython",
    "version": 3
   },
   "file_extension": ".py",
   "mimetype": "text/x-python",
   "name": "python",
   "nbconvert_exporter": "python",
   "pygments_lexer": "ipython3",
   "version": "3.8.2"
  }
 },
 "nbformat": 4,
 "nbformat_minor": 4
}
