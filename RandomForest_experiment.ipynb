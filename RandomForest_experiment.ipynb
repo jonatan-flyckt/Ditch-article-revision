{
 "cells": [
  {
   "cell_type": "code",
   "execution_count": 1,
   "metadata": {},
   "outputs": [],
   "source": [
    "import pickle\n",
    "from sklearn.ensemble import RandomForestClassifier\n",
    "import numpy as np\n",
    "\n",
    "from sklearn.model_selection import train_test_split\n",
    "from sklearn.metrics import cohen_kappa_score\n",
    "from bayes_opt import BayesianOptimization\n",
    "\n",
    "from general_functions import create_balanced_dataset"
   ]
  },
  {
   "cell_type": "code",
   "execution_count": null,
   "metadata": {},
   "outputs": [],
   "source": []
  },
  {
   "cell_type": "code",
   "execution_count": 2,
   "metadata": {},
   "outputs": [],
   "source": [
    "file = open(\"dataset/zone_4.pickle\", \"rb\")\n",
    "zone_4 = pickle.load(file)\n",
    "\n",
    "file = open(\"dataset/zone_7.pickle\", \"rb\")\n",
    "zone_7 = pickle.load(file)\n",
    "file = None"
   ]
  },
  {
   "cell_type": "code",
   "execution_count": 3,
   "metadata": {},
   "outputs": [],
   "source": [
    "#zone_7_resampled = create_balanced_dataset([\"dataset/zone_7.pickle\"])\n",
    "\n",
    "#with open(\"dataset/zone_7_resampled.pickle\", \"wb\") as file:\n",
    "#    pickle.dump(zone_7_resampled, file)"
   ]
  },
  {
   "cell_type": "code",
   "execution_count": 4,
   "metadata": {},
   "outputs": [],
   "source": [
    "with open(\"dataset/zone_4_resampled.pickle\", \"rb\") as file:\n",
    "    zone_4_resampled = pickle.load(file)\n",
    "with open(\"dataset/zone_7_resampled.pickle\", \"rb\") as file:\n",
    "    zone_7_resampled = pickle.load(file)"
   ]
  },
  {
   "cell_type": "code",
   "execution_count": 5,
   "metadata": {},
   "outputs": [
    {
     "data": {
      "text/plain": [
       "(7852140, 82)"
      ]
     },
     "execution_count": 5,
     "metadata": {},
     "output_type": "execute_result"
    }
   ],
   "source": [
    "zone_4.shape"
   ]
  },
  {
   "cell_type": "code",
   "execution_count": 6,
   "metadata": {},
   "outputs": [],
   "source": [
    "experiment_arr = [(zone_4_resampled, zone_7), (zone_7_resampled, zone_4)]"
   ]
  },
  {
   "cell_type": "code",
   "execution_count": null,
   "metadata": {},
   "outputs": [],
   "source": []
  },
  {
   "cell_type": "code",
   "execution_count": 20,
   "metadata": {},
   "outputs": [
    {
     "name": "stdout",
     "output_type": "stream",
     "text": [
      "{'hpmf_raw': 0.0038683282581401376, 'skyview_raw': 0.004451568570564659, 'impundment_raw': 0.003938460207940128, 'slope_raw': 0.0057675119300079035, 'DEM_ditch_detection': 0.0018079561470795758, 'DEM_ditch_detection_no_streams': 0.002125134644307436, 'conic_mean': 0.0047954733033214025, 'skyview_non_ditch': 0.017280068012418087, 'skyview_gabor': 0.013691250074689836, 'conic_mean_no_streams': 0.0044128676335685995, 'skyview_gabor_no_streams': 0.012521749419490396, 'skyview_mean_2': 0.00533520283174619, 'skyview_mean_3': 0.005080650479185579, 'skyview_mean_4': 0.004293189879394133, 'skyview_mean_6': 0.007137227365554118, 'skyview_median_2': 0.004914472153810017, 'skyview_median_4': 0.005915749202097467, 'skyview_median_6': 0.01009957876534004, 'skyview_min_2': 0.005359683172195564, 'skyview_min_4': 0.0070039130561082245, 'skyview_min_6': 0.009066526147627735, 'skyview_max_2': 0.008579224054014616, 'skyview_max_4': 0.012666519872846704, 'skyview_max_6': 0.017288854401862102, 'skyview_std_2': 0.005715241934804549, 'skyview_std_4': 0.00669534755885536, 'skyview_std_6': 0.008196668699155625, 'impundment_amplified': 0.019178006056377737, 'impoundment_amplified_no_streams': 0.025949501101447517, 'impundment_mean_2': 0.0214933484912734, 'impundment_mean_3': 0.13269992060254782, 'impundment_mean_4': 0.04404794199877085, 'impundment_mean_6': 0.00948857824214974, 'impundment_median_2': 0.006545939716682051, 'impundment_median_4': 0.008671481275012945, 'impundment_median_6': 0.010663822036146936, 'impundment_min_2': 0.0013754960418066566, 'impundment_min_4': 0.00020952424679576427, 'impundment_min_6': 0.0, 'impundment_max_2': 0.007432515479257112, 'impundment_max_4': 0.011114027931076171, 'impundment_max_6': 0.013769711106704483, 'impundment_std_2': 0.005811860711193096, 'impundment_std_4': 0.008842445033456187, 'impundment_std_6': 0.012530698417340547, 'hpmf_filter': 0.011037669550333976, 'hpmf_gabor': 0.007918187806936644, 'hpmf_gabor_no_streams': 0.00817432623907637, 'hpmf_filter_no_streams': 0.010684905788918652, 'hpmf_mean_2': 0.004947105468454767, 'hpmf_mean_3': 0.17792247089373933, 'hpmf_mean_4': 0.01553836517160202, 'hpmf_mean_6': 0.009444354404479265, 'hpmf_median_2': 0.00387606427792425, 'hpmf_median_4': 0.01652994404289952, 'hpmf_median_6': 0.005208219479351521, 'hpmf_min_2': 0.00901604746662003, 'hpmf_min_4': 0.008156098280443691, 'hpmf_min_6': 0.007385376369649395, 'hpmf_max_2': 0.0035526461901734703, 'hpmf_max_4': 0.0049614035704104165, 'hpmf_max_6': 0.007781734800179629, 'hpmf_std_2': 0.006541292086107947, 'hpmf_std_4': 0.007668870187607039, 'hpmf_std_6': 0.008808477612900864, 'slope_non_ditch': 0.01113262591258057, 'slope_mean_2': 0.004857588412815424, 'slope_mean_3': 0.0056694009638189585, 'slope_mean_4': 0.006109491239344456, 'slope_mean_6': 0.008453905583607589, 'slope_median_2': 0.005387497616630491, 'slope_median_4': 0.007051048839246932, 'slope_median_6': 0.009571612073419023, 'slope_min_2': 0.009265190912206376, 'slope_min_4': 0.009598044750051347, 'slope_min_6': 0.01319180326565176, 'slope_max_2': 0.0045431535004459645, 'slope_max_4': 0.008474583564808132, 'slope_std_2': 0.0060460545134561755, 'slope_std_4': 0.008606326678216009, 'slope_std_6': 0.009054876221726849}\n",
      "Cohen's kappa score         0.14189984347477835\n",
      "\n",
      "------------------------------------------------------\n",
      "\n",
      "{'hpmf_raw': 0.003792885687441552, 'skyview_raw': 0.005059030774157747, 'impundment_raw': 0.0040016295753498585, 'slope_raw': 0.005590805775496728, 'DEM_ditch_detection': 0.001516171508833461, 'DEM_ditch_detection_no_streams': 0.0018823409000632144, 'conic_mean': 0.004659880243924091, 'skyview_non_ditch': 0.014114622472348518, 'skyview_gabor': 0.013231929263118277, 'conic_mean_no_streams': 0.004288774479934019, 'skyview_gabor_no_streams': 0.012756754099458166, 'skyview_mean_2': 0.005708233914424685, 'skyview_mean_3': 0.004253462306403661, 'skyview_mean_4': 0.005345583182336104, 'skyview_mean_6': 0.006788779175539961, 'skyview_median_2': 0.006018192813455168, 'skyview_median_4': 0.00715969571589881, 'skyview_median_6': 0.011413375997469579, 'skyview_min_2': 0.005341299330536001, 'skyview_min_4': 0.00721019511063742, 'skyview_min_6': 0.009747926269959545, 'skyview_max_2': 0.008929815728077198, 'skyview_max_4': 0.011081153023135296, 'skyview_max_6': 0.017536243763890777, 'skyview_std_2': 0.005733836468545682, 'skyview_std_4': 0.006663259978160144, 'skyview_std_6': 0.008638614012577813, 'impundment_amplified': 0.023922869828208973, 'impoundment_amplified_no_streams': 0.02241794316081186, 'impundment_mean_2': 0.006789935637520131, 'impundment_mean_3': 0.1349712243895707, 'impundment_mean_4': 0.19721091658137763, 'impundment_mean_6': 0.009866968714321713, 'impundment_median_2': 0.0060456132512038945, 'impundment_median_4': 0.008827526944998582, 'impundment_median_6': 0.010636892629991972, 'impundment_min_2': 0.0014264083913667252, 'impundment_min_4': 0.00018226007834646986, 'impundment_min_6': 0.0, 'impundment_max_2': 0.010504491786055717, 'impundment_max_4': 0.008722048207974776, 'impundment_max_6': 0.01191672341488699, 'impundment_std_2': 0.006571165263374834, 'impundment_std_4': 0.00810829033973982, 'impundment_std_6': 0.012441118053204064, 'hpmf_filter': 0.010766174313309486, 'hpmf_gabor': 0.008699114598608277, 'hpmf_gabor_no_streams': 0.009011144258817487, 'hpmf_filter_no_streams': 0.0110689289971657, 'hpmf_mean_2': 0.03181813780425079, 'hpmf_mean_3': 0.005634236475717003, 'hpmf_mean_4': 0.009403050393189798, 'hpmf_mean_6': 0.009981897638221392, 'hpmf_median_2': 0.016958564075286706, 'hpmf_median_4': 0.005226943063531813, 'hpmf_median_6': 0.0050452841170135375, 'hpmf_min_2': 0.014187034369854776, 'hpmf_min_4': 0.008580692225297512, 'hpmf_min_6': 0.0076001524065478394, 'hpmf_max_2': 0.004042270637591052, 'hpmf_max_4': 0.005661046272736607, 'hpmf_max_6': 0.0070490473561512, 'hpmf_std_2': 0.006038565585156089, 'hpmf_std_4': 0.007392418386926232, 'hpmf_std_6': 0.008560765449440117, 'slope_non_ditch': 0.014748398430243122, 'slope_mean_2': 0.004783906037513815, 'slope_mean_3': 0.0051984782567422155, 'slope_mean_4': 0.005362774520510507, 'slope_mean_6': 0.008012533352875995, 'slope_median_2': 0.006226066007848589, 'slope_median_4': 0.006707499521653686, 'slope_median_6': 0.009572194677984158, 'slope_min_2': 0.008253080596853915, 'slope_min_4': 0.009890577072864823, 'slope_min_6': 0.011204949873867769, 'slope_max_2': 0.005364581480887043, 'slope_max_4': 0.008279578167397734, 'slope_std_2': 0.00584350569031032, 'slope_std_4': 0.008344145785586652, 'slope_std_6': 0.010455373857917834}\n",
      "Cohen's kappa score         0.15483265429866422\n",
      "\n",
      "------------------------------------------------------\n",
      "\n"
     ]
    }
   ],
   "source": [
    "most_important_features = zone_4.columns.tolist()[1:]\n",
    "for num_features in [81, 50]: # [81, 50, 35, 25, 20, 15, 10]\n",
    "    y_test_all = []\n",
    "    pred_all = []\n",
    "    \n",
    "    feature_importances = {i:0 for i in most_important_features}\n",
    "    for (training_dataset, test_dataset) in experiment_arr:\n",
    "\n",
    "        X_train = training_dataset.loc[:, training_dataset.columns != \"label_3m\"]\n",
    "        y_train = training_dataset[\"label_3m\"]\n",
    "        training_dataset = None\n",
    "\n",
    "        clf = RandomForestClassifier(n_estimators=1, class_weight=\"balanced\", max_features=25, n_jobs=-1)\n",
    "\n",
    "        clf.fit(X_train, y_train)\n",
    "\n",
    "        X_test = test_dataset.loc[:, test_dataset.columns != \"label_3m\"]\n",
    "        y_test = test_dataset[\"label_3m\"]\n",
    "\n",
    "        pred = clf.predict(X_test)\n",
    "\n",
    "        for i, pred_var in enumerate(pred):\n",
    "            y_test_all.append(y_test[i])\n",
    "            pred_all.append(pred_var)\n",
    "\n",
    "        importances = clf.feature_importances_\n",
    "\n",
    "        \n",
    "        for i, importance in enumerate(importances):\n",
    "            feature_importances[most_important_features[i]] += importance\n",
    "        \n",
    "    for importance_name in most_important_features:\n",
    "        feature_importances[importance_name] /= 2\n",
    "    cohen_score = cohen_kappa_score(y_test_all, pred_all)\n",
    "    print(feature_importances)\n",
    "    print(\"-----------------------\")\n",
    "    print(\"Cohen's kappa score        \", cohen_score)\n",
    "    print(\"\\n------------------------------------------------------\\n\")"
   ]
  },
  {
   "cell_type": "code",
   "execution_count": null,
   "metadata": {},
   "outputs": [],
   "source": []
  },
  {
   "cell_type": "code",
   "execution_count": null,
   "metadata": {},
   "outputs": [],
   "source": []
  },
  {
   "cell_type": "code",
   "execution_count": null,
   "metadata": {},
   "outputs": [],
   "source": []
  },
  {
   "cell_type": "code",
   "execution_count": 21,
   "metadata": {},
   "outputs": [
    {
     "data": {
      "text/plain": [
       "{'hpmf_raw': 0.003792885687441552,\n",
       " 'skyview_raw': 0.005059030774157747,\n",
       " 'impundment_raw': 0.0040016295753498585,\n",
       " 'slope_raw': 0.005590805775496728,\n",
       " 'DEM_ditch_detection': 0.001516171508833461,\n",
       " 'DEM_ditch_detection_no_streams': 0.0018823409000632144,\n",
       " 'conic_mean': 0.004659880243924091,\n",
       " 'skyview_non_ditch': 0.014114622472348518,\n",
       " 'skyview_gabor': 0.013231929263118277,\n",
       " 'conic_mean_no_streams': 0.004288774479934019,\n",
       " 'skyview_gabor_no_streams': 0.012756754099458166,\n",
       " 'skyview_mean_2': 0.005708233914424685,\n",
       " 'skyview_mean_3': 0.004253462306403661,\n",
       " 'skyview_mean_4': 0.005345583182336104,\n",
       " 'skyview_mean_6': 0.006788779175539961,\n",
       " 'skyview_median_2': 0.006018192813455168,\n",
       " 'skyview_median_4': 0.00715969571589881,\n",
       " 'skyview_median_6': 0.011413375997469579,\n",
       " 'skyview_min_2': 0.005341299330536001,\n",
       " 'skyview_min_4': 0.00721019511063742,\n",
       " 'skyview_min_6': 0.009747926269959545,\n",
       " 'skyview_max_2': 0.008929815728077198,\n",
       " 'skyview_max_4': 0.011081153023135296,\n",
       " 'skyview_max_6': 0.017536243763890777,\n",
       " 'skyview_std_2': 0.005733836468545682,\n",
       " 'skyview_std_4': 0.006663259978160144,\n",
       " 'skyview_std_6': 0.008638614012577813,\n",
       " 'impundment_amplified': 0.023922869828208973,\n",
       " 'impoundment_amplified_no_streams': 0.02241794316081186,\n",
       " 'impundment_mean_2': 0.006789935637520131,\n",
       " 'impundment_mean_3': 0.1349712243895707,\n",
       " 'impundment_mean_4': 0.19721091658137763,\n",
       " 'impundment_mean_6': 0.009866968714321713,\n",
       " 'impundment_median_2': 0.0060456132512038945,\n",
       " 'impundment_median_4': 0.008827526944998582,\n",
       " 'impundment_median_6': 0.010636892629991972,\n",
       " 'impundment_min_2': 0.0014264083913667252,\n",
       " 'impundment_min_4': 0.00018226007834646986,\n",
       " 'impundment_min_6': 0.0,\n",
       " 'impundment_max_2': 0.010504491786055717,\n",
       " 'impundment_max_4': 0.008722048207974776,\n",
       " 'impundment_max_6': 0.01191672341488699,\n",
       " 'impundment_std_2': 0.006571165263374834,\n",
       " 'impundment_std_4': 0.00810829033973982,\n",
       " 'impundment_std_6': 0.012441118053204064,\n",
       " 'hpmf_filter': 0.010766174313309486,\n",
       " 'hpmf_gabor': 0.008699114598608277,\n",
       " 'hpmf_gabor_no_streams': 0.009011144258817487,\n",
       " 'hpmf_filter_no_streams': 0.0110689289971657,\n",
       " 'hpmf_mean_2': 0.03181813780425079,\n",
       " 'hpmf_mean_3': 0.005634236475717003,\n",
       " 'hpmf_mean_4': 0.009403050393189798,\n",
       " 'hpmf_mean_6': 0.009981897638221392,\n",
       " 'hpmf_median_2': 0.016958564075286706,\n",
       " 'hpmf_median_4': 0.005226943063531813,\n",
       " 'hpmf_median_6': 0.0050452841170135375,\n",
       " 'hpmf_min_2': 0.014187034369854776,\n",
       " 'hpmf_min_4': 0.008580692225297512,\n",
       " 'hpmf_min_6': 0.0076001524065478394,\n",
       " 'hpmf_max_2': 0.004042270637591052,\n",
       " 'hpmf_max_4': 0.005661046272736607,\n",
       " 'hpmf_max_6': 0.0070490473561512,\n",
       " 'hpmf_std_2': 0.006038565585156089,\n",
       " 'hpmf_std_4': 0.007392418386926232,\n",
       " 'hpmf_std_6': 0.008560765449440117,\n",
       " 'slope_non_ditch': 0.014748398430243122,\n",
       " 'slope_mean_2': 0.004783906037513815,\n",
       " 'slope_mean_3': 0.0051984782567422155,\n",
       " 'slope_mean_4': 0.005362774520510507,\n",
       " 'slope_mean_6': 0.008012533352875995,\n",
       " 'slope_median_2': 0.006226066007848589,\n",
       " 'slope_median_4': 0.006707499521653686,\n",
       " 'slope_median_6': 0.009572194677984158,\n",
       " 'slope_min_2': 0.008253080596853915,\n",
       " 'slope_min_4': 0.009890577072864823,\n",
       " 'slope_min_6': 0.011204949873867769,\n",
       " 'slope_max_2': 0.005364581480887043,\n",
       " 'slope_max_4': 0.008279578167397734,\n",
       " 'slope_std_2': 0.00584350569031032,\n",
       " 'slope_std_4': 0.008344145785586652,\n",
       " 'slope_std_6': 0.010455373857917834}"
      ]
     },
     "execution_count": 21,
     "metadata": {},
     "output_type": "execute_result"
    }
   ],
   "source": [
    "feature_importances"
   ]
  },
  {
   "cell_type": "code",
   "execution_count": null,
   "metadata": {},
   "outputs": [],
   "source": []
  },
  {
   "cell_type": "code",
   "execution_count": null,
   "metadata": {},
   "outputs": [],
   "source": []
  },
  {
   "cell_type": "code",
   "execution_count": null,
   "metadata": {},
   "outputs": [],
   "source": []
  }
 ],
 "metadata": {
  "kernelspec": {
   "display_name": "Python (pytorch)",
   "language": "python",
   "name": "pytorch"
  },
  "language_info": {
   "codemirror_mode": {
    "name": "ipython",
    "version": 3
   },
   "file_extension": ".py",
   "mimetype": "text/x-python",
   "name": "python",
   "nbconvert_exporter": "python",
   "pygments_lexer": "ipython3",
   "version": "3.8.2"
  }
 },
 "nbformat": 4,
 "nbformat_minor": 4
}
