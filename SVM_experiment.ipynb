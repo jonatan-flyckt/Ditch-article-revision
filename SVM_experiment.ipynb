{
 "cells": [
  {
   "cell_type": "code",
   "execution_count": 1,
   "metadata": {},
   "outputs": [],
   "source": [
    "import pickle\n",
    "from sklearn.svm import LinearSVC\n",
    "from sklearn.pipeline import make_pipeline\n",
    "from sklearn.preprocessing import StandardScaler\n",
    "import numpy as np\n",
    "import operator\n",
    "\n",
    "from sklearn.model_selection import train_test_split\n",
    "from sklearn.metrics import cohen_kappa_score, accuracy_score, recall_score, precision_score\n",
    "from bayes_opt import BayesianOptimization\n",
    "\n",
    "from general_functions import create_balanced_dataset"
   ]
  },
  {
   "cell_type": "code",
   "execution_count": 2,
   "metadata": {},
   "outputs": [],
   "source": [
    "file = open(\"dataset/zone_4.pickle\", \"rb\")\n",
    "zone_4 = pickle.load(file)\n",
    "\n",
    "file = open(\"dataset/zone_7.pickle\", \"rb\")\n",
    "zone_7 = pickle.load(file)\n",
    "file = None"
   ]
  },
  {
   "cell_type": "code",
   "execution_count": 3,
   "metadata": {},
   "outputs": [],
   "source": [
    "with open(\"dataset/zone_4_resampled.pickle\", \"rb\") as file:\n",
    "    zone_4_resampled = pickle.load(file)\n",
    "with open(\"dataset/zone_7_resampled.pickle\", \"rb\") as file:\n",
    "    zone_7_resampled = pickle.load(file)"
   ]
  },
  {
   "cell_type": "code",
   "execution_count": 4,
   "metadata": {},
   "outputs": [],
   "source": [
    "experiment_arr = [(zone_4_resampled, zone_7), (zone_7_resampled, zone_4)]"
   ]
  },
  {
   "cell_type": "code",
   "execution_count": 5,
   "metadata": {},
   "outputs": [],
   "source": [
    "zone_4 = None\n",
    "zone_7 = None\n",
    "zone_4_resampled = None\n",
    "zone_7_resampled = None"
   ]
  },
  {
   "cell_type": "code",
   "execution_count": 6,
   "metadata": {},
   "outputs": [],
   "source": [
    "features_to_use = [\n",
    "    ['hpmf_raw', 'skyview_raw', 'impundment_raw', 'slope_raw', 'DEM_ditch_detection', 'DEM_ditch_detection_no_streams',\n",
    "     'conic_mean', 'skyview_non_ditch', 'skyview_gabor', 'conic_mean_no_streams', 'skyview_gabor_no_streams',\n",
    "     'skyview_mean_2', 'skyview_mean_3', 'skyview_mean_4', 'skyview_mean_6', 'skyview_median_2', 'skyview_median_4',\n",
    "     'skyview_median_6', 'skyview_min_2', 'skyview_min_4', 'skyview_min_6', 'skyview_max_2', 'skyview_max_4',\n",
    "     'skyview_max_6', 'skyview_std_2', 'skyview_std_4', 'skyview_std_6', 'impundment_amplified',\n",
    "     'impoundment_amplified_no_streams', 'impundment_mean_2', 'impundment_mean_3', 'impundment_mean_4',\n",
    "     'impundment_mean_6', 'impundment_median_2', 'impundment_median_4', 'impundment_median_6', 'impundment_min_2',\n",
    "     'impundment_min_4', 'impundment_min_6', 'impundment_max_2', 'impundment_max_4', 'impundment_max_6',\n",
    "     'impundment_std_2', 'impundment_std_4', 'impundment_std_6', 'hpmf_filter', 'hpmf_gabor', 'hpmf_gabor_no_streams',\n",
    "     'hpmf_filter_no_streams', 'hpmf_mean_2', 'hpmf_mean_3', 'hpmf_mean_4', 'hpmf_mean_6', 'hpmf_median_2',\n",
    "     'hpmf_median_4', 'hpmf_median_6', 'hpmf_min_2', 'hpmf_min_4', 'hpmf_min_6', 'hpmf_max_2', 'hpmf_max_4',\n",
    "     'hpmf_max_6', 'hpmf_std_2', 'hpmf_std_4', 'hpmf_std_6', 'slope_non_ditch', 'slope_mean_2', 'slope_mean_3',\n",
    "     'slope_mean_4', 'slope_mean_6', 'slope_median_2', 'slope_median_4', 'slope_median_6', 'slope_min_2', 'slope_min_4',\n",
    "     'slope_min_6', 'slope_max_2', 'slope_max_4', 'slope_std_2', 'slope_std_4', 'slope_std_6'],\n",
    "    ['impundment_mean_3', 'impundment_mean_4', 'impundment_median_4', 'impundment_mean_2', 'hpmf_mean_4', 'hpmf_mean_3',\n",
    "     'impundment_amplified', 'hpmf_median_4', 'impoundment_amplified_no_streams', 'skyview_max_6', 'skyview_gabor',\n",
    "     'hpmf_min_2', 'impundment_max_2', 'impundment_std_4', 'skyview_non_ditch', 'skyview_gabor_no_streams', 'slope_min_6',\n",
    "     'skyview_max_4', 'impundment_median_2', 'impundment_max_6', 'slope_non_ditch', 'impundment_mean_6', 'hpmf_filter',\n",
    "     'impundment_std_6', 'hpmf_filter_no_streams', 'impundment_median_6', 'hpmf_mean_6', 'slope_min_4', 'slope_std_6',\n",
    "     'hpmf_mean_2', 'slope_median_6', 'impundment_max_4', 'impundment_std_2', 'hpmf_gabor', 'hpmf_min_4', 'skyview_min_6',\n",
    "     'skyview_median_6', 'slope_mean_6', 'hpmf_gabor_no_streams', 'skyview_std_6', 'slope_min_2', 'hpmf_median_2',\n",
    "     'skyview_max_2', 'hpmf_std_6', 'slope_std_4', 'hpmf_min_6', 'slope_max_4', 'skyview_mean_6', 'hpmf_max_6', 'skyview_min_4'],\n",
    "    ['impundment_mean_3', 'impundment_mean_4', 'impundment_median_4', 'impundment_mean_2', 'impundment_amplified',\n",
    "     'impoundment_amplified_no_streams', 'hpmf_median_4', 'skyview_max_6', 'hpmf_mean_4', 'skyview_gabor',\n",
    "     'skyview_non_ditch', 'slope_min_6', 'skyview_max_4', 'skyview_gabor_no_streams', 'slope_median_6', 'impundment_max_6',\n",
    "     'hpmf_filter', 'skyview_median_6', 'slope_non_ditch', 'impundment_std_4', 'slope_std_6', 'hpmf_filter_no_streams',\n",
    "     'impundment_median_6', 'hpmf_mean_6', 'slope_min_4', 'hpmf_mean_3', 'impundment_mean_6', 'slope_min_2', 'slope_mean_6',\n",
    "     'skyview_max_2', 'slope_std_4', 'impundment_median_2', 'hpmf_std_6', 'skyview_min_6', 'impundment_std_6'],\n",
    "    ['impundment_mean_3', 'impundment_mean_4', 'impundment_median_4', 'impundment_amplified', 'hpmf_median_4',\n",
    "     'impoundment_amplified_no_streams', 'impundment_mean_2', 'skyview_max_6', 'skyview_gabor', 'skyview_non_ditch',\n",
    "     'slope_min_6', 'hpmf_mean_6', 'skyview_median_6', 'skyview_max_4', 'skyview_min_6', 'impundment_max_6', 'slope_std_6',\n",
    "     'slope_median_6', 'skyview_gabor_no_streams', 'hpmf_std_6', 'impundment_std_4', 'slope_std_4', 'hpmf_filter',\n",
    "     'impundment_median_6', 'slope_mean_6'],\n",
    "    ['impundment_mean_3', 'hpmf_median_4', 'impundment_mean_4', 'impundment_amplified', 'skyview_non_ditch', 'skyview_max_6',\n",
    "     'hpmf_filter', 'impoundment_amplified_no_streams', 'hpmf_mean_6', 'slope_min_6', 'impundment_max_6', 'skyview_median_6',\n",
    "     'skyview_gabor', 'skyview_min_6', 'skyview_max_4', 'slope_median_6', 'impundment_mean_2', 'impundment_median_6',\n",
    "     'hpmf_std_6', 'slope_std_6'],\n",
    "    ['impundment_mean_3', 'impundment_mean_4', 'hpmf_median_4', 'skyview_gabor', 'impundment_amplified', 'skyview_max_6',\n",
    "     'skyview_non_ditch', 'impundment_max_6', 'hpmf_filter', 'impoundment_amplified_no_streams', 'slope_min_6',\n",
    "     'hpmf_mean_6', 'slope_median_6', 'slope_std_6', 'skyview_median_6'],\n",
    "    ['impundment_mean_3', 'impundment_mean_4', 'skyview_max_6', 'hpmf_median_4', 'skyview_gabor', 'impundment_max_6',\n",
    "     'impundment_amplified', 'hpmf_filter', 'slope_min_6', 'skyview_non_ditch']\n",
    "]"
   ]
  },
  {
   "cell_type": "code",
   "execution_count": 7,
   "metadata": {
    "scrolled": false
   },
   "outputs": [
    {
     "name": "stdout",
     "output_type": "stream",
     "text": [
      "Features used in experiment:\n",
      "['hpmf_raw', 'skyview_raw', 'impundment_raw', 'slope_raw', 'DEM_ditch_detection', 'DEM_ditch_detection_no_streams', 'conic_mean', 'skyview_non_ditch', 'skyview_gabor', 'conic_mean_no_streams', 'skyview_gabor_no_streams', 'skyview_mean_2', 'skyview_mean_3', 'skyview_mean_4', 'skyview_mean_6', 'skyview_median_2', 'skyview_median_4', 'skyview_median_6', 'skyview_min_2', 'skyview_min_4', 'skyview_min_6', 'skyview_max_2', 'skyview_max_4', 'skyview_max_6', 'skyview_std_2', 'skyview_std_4', 'skyview_std_6', 'impundment_amplified', 'impoundment_amplified_no_streams', 'impundment_mean_2', 'impundment_mean_3', 'impundment_mean_4', 'impundment_mean_6', 'impundment_median_2', 'impundment_median_4', 'impundment_median_6', 'impundment_min_2', 'impundment_min_4', 'impundment_min_6', 'impundment_max_2', 'impundment_max_4', 'impundment_max_6', 'impundment_std_2', 'impundment_std_4', 'impundment_std_6', 'hpmf_filter', 'hpmf_gabor', 'hpmf_gabor_no_streams', 'hpmf_filter_no_streams', 'hpmf_mean_2', 'hpmf_mean_3', 'hpmf_mean_4', 'hpmf_mean_6', 'hpmf_median_2', 'hpmf_median_4', 'hpmf_median_6', 'hpmf_min_2', 'hpmf_min_4', 'hpmf_min_6', 'hpmf_max_2', 'hpmf_max_4', 'hpmf_max_6', 'hpmf_std_2', 'hpmf_std_4', 'hpmf_std_6', 'slope_non_ditch', 'slope_mean_2', 'slope_mean_3', 'slope_mean_4', 'slope_mean_6', 'slope_median_2', 'slope_median_4', 'slope_median_6', 'slope_min_2', 'slope_min_4', 'slope_min_6', 'slope_max_2', 'slope_max_4', 'slope_std_2', 'slope_std_4', 'slope_std_6']\n",
      "\n",
      "\n",
      "[LibLinear]Amount of features X_train: 81, X_test: 81\n",
      "[LibLinear]Amount of features X_train: 81, X_test: 81\n",
      "\n",
      "\n",
      "Amount of features used:   81\n",
      "Cohen's kappa score         0.27512392558311116\n",
      "Accuracy score              0.9307243630398847\n",
      "Recall score                0.6376922050949831\n",
      "Precision score             0.19702042309487466\n",
      "\n",
      "------------------------------------------------------\n",
      "\n",
      "Features used in experiment:\n",
      "['impundment_mean_3', 'impundment_mean_4', 'impundment_median_4', 'impundment_mean_2', 'hpmf_mean_4', 'hpmf_mean_3', 'impundment_amplified', 'hpmf_median_4', 'impoundment_amplified_no_streams', 'skyview_max_6', 'skyview_gabor', 'hpmf_min_2', 'impundment_max_2', 'impundment_std_4', 'skyview_non_ditch', 'skyview_gabor_no_streams', 'slope_min_6', 'skyview_max_4', 'impundment_median_2', 'impundment_max_6', 'slope_non_ditch', 'impundment_mean_6', 'hpmf_filter', 'impundment_std_6', 'hpmf_filter_no_streams', 'impundment_median_6', 'hpmf_mean_6', 'slope_min_4', 'slope_std_6', 'hpmf_mean_2', 'slope_median_6', 'impundment_max_4', 'impundment_std_2', 'hpmf_gabor', 'hpmf_min_4', 'skyview_min_6', 'skyview_median_6', 'slope_mean_6', 'hpmf_gabor_no_streams', 'skyview_std_6', 'slope_min_2', 'hpmf_median_2', 'skyview_max_2', 'hpmf_std_6', 'slope_std_4', 'hpmf_min_6', 'slope_max_4', 'skyview_mean_6', 'hpmf_max_6', 'skyview_min_4']\n",
      "\n",
      "\n",
      "[LibLinear]Amount of features X_train: 50, X_test: 50\n",
      "[LibLinear]Amount of features X_train: 50, X_test: 50\n",
      "\n",
      "\n",
      "Amount of features used:   50\n",
      "Cohen's kappa score         0.26855363669004806\n",
      "Accuracy score              0.9284226338297585\n",
      "Recall score                0.6398071756568794\n",
      "Precision score             0.1915990922696194\n",
      "\n",
      "------------------------------------------------------\n",
      "\n",
      "Features used in experiment:\n",
      "['impundment_mean_3', 'impundment_mean_4', 'impundment_median_4', 'impundment_mean_2', 'impundment_amplified', 'impoundment_amplified_no_streams', 'hpmf_median_4', 'skyview_max_6', 'hpmf_mean_4', 'skyview_gabor', 'skyview_non_ditch', 'slope_min_6', 'skyview_max_4', 'skyview_gabor_no_streams', 'slope_median_6', 'impundment_max_6', 'hpmf_filter', 'skyview_median_6', 'slope_non_ditch', 'impundment_std_4', 'slope_std_6', 'hpmf_filter_no_streams', 'impundment_median_6', 'hpmf_mean_6', 'slope_min_4', 'hpmf_mean_3', 'impundment_mean_6', 'slope_min_2', 'slope_mean_6', 'skyview_max_2', 'slope_std_4', 'impundment_median_2', 'hpmf_std_6', 'skyview_min_6', 'impundment_std_6']\n",
      "\n",
      "\n",
      "[LibLinear]Amount of features X_train: 35, X_test: 35\n",
      "[LibLinear]Amount of features X_train: 35, X_test: 35\n",
      "\n",
      "\n",
      "Amount of features used:   35\n",
      "Cohen's kappa score         0.26391727934106046\n",
      "Accuracy score              0.9265213050200327\n",
      "Recall score                0.64326679931733\n",
      "Precision score             0.18767833786135132\n",
      "\n",
      "------------------------------------------------------\n",
      "\n",
      "Features used in experiment:\n",
      "['impundment_mean_3', 'impundment_mean_4', 'impundment_median_4', 'impundment_amplified', 'hpmf_median_4', 'impoundment_amplified_no_streams', 'impundment_mean_2', 'skyview_max_6', 'skyview_gabor', 'skyview_non_ditch', 'slope_min_6', 'hpmf_mean_6', 'skyview_median_6', 'skyview_max_4', 'skyview_min_6', 'impundment_max_6', 'slope_std_6', 'slope_median_6', 'skyview_gabor_no_streams', 'hpmf_std_6', 'impundment_std_4', 'slope_std_4', 'hpmf_filter', 'impundment_median_6', 'slope_mean_6']\n",
      "\n",
      "\n",
      "[LibLinear]Amount of features X_train: 25, X_test: 25\n",
      "[LibLinear]Amount of features X_train: 25, X_test: 25\n",
      "\n",
      "\n",
      "Amount of features used:   25\n",
      "Cohen's kappa score         0.28181198643003125\n",
      "Accuracy score              0.9329365625167152\n",
      "Recall score                0.6358630413657755\n",
      "Precision score             0.20260362009002525\n",
      "\n",
      "------------------------------------------------------\n",
      "\n",
      "Features used in experiment:\n",
      "['impundment_mean_3', 'hpmf_median_4', 'impundment_mean_4', 'impundment_amplified', 'skyview_non_ditch', 'skyview_max_6', 'hpmf_filter', 'impoundment_amplified_no_streams', 'hpmf_mean_6', 'slope_min_6', 'impundment_max_6', 'skyview_median_6', 'skyview_gabor', 'skyview_min_6', 'skyview_max_4', 'slope_median_6', 'impundment_mean_2', 'impundment_median_6', 'hpmf_std_6', 'slope_std_6']\n",
      "\n",
      "\n",
      "[LibLinear]Amount of features X_train: 20, X_test: 20\n",
      "[LibLinear]Amount of features X_train: 20, X_test: 20\n",
      "\n",
      "\n",
      "Amount of features used:   20\n",
      "Cohen's kappa score         0.2881885692824351\n",
      "Accuracy score              0.934218315007119\n",
      "Recall score                0.6416390613559221\n",
      "Precision score             0.20729998900736507\n",
      "\n",
      "------------------------------------------------------\n",
      "\n",
      "Features used in experiment:\n",
      "['impundment_mean_3', 'impundment_mean_4', 'hpmf_median_4', 'skyview_gabor', 'impundment_amplified', 'skyview_max_6', 'skyview_non_ditch', 'impundment_max_6', 'hpmf_filter', 'impoundment_amplified_no_streams', 'slope_min_6', 'hpmf_mean_6', 'slope_median_6', 'slope_std_6', 'skyview_median_6']\n",
      "\n",
      "\n",
      "[LibLinear]Amount of features X_train: 15, X_test: 15\n",
      "[LibLinear]Amount of features X_train: 15, X_test: 15\n",
      "\n",
      "\n",
      "Amount of features used:   15\n",
      "Cohen's kappa score         0.2647035250295463\n",
      "Accuracy score              0.926526462849618\n",
      "Recall score                0.6456131373152123\n",
      "Precision score             0.18811744551251547\n",
      "\n",
      "------------------------------------------------------\n",
      "\n",
      "Features used in experiment:\n",
      "['impundment_mean_3', 'impundment_mean_4', 'skyview_max_6', 'hpmf_median_4', 'skyview_gabor', 'impundment_max_6', 'impundment_amplified', 'hpmf_filter', 'slope_min_6', 'skyview_non_ditch']\n",
      "\n",
      "\n",
      "[LibLinear]Amount of features X_train: 10, X_test: 10\n",
      "[LibLinear]Amount of features X_train: 10, X_test: 10\n",
      "\n",
      "\n",
      "Amount of features used:   10\n",
      "Cohen's kappa score         0.24072489484477833\n",
      "Accuracy score              0.9185530314029042\n",
      "Recall score                0.6399024446011089\n",
      "Precision score             0.17012420207242263\n",
      "\n",
      "------------------------------------------------------\n",
      "\n"
     ]
    }
   ],
   "source": [
    "for most_important_features in features_to_use:\n",
    "    num_features = len(most_important_features)\n",
    "    print(f\"Features used in experiment:\\n{most_important_features}\")\n",
    "    print(\"\\n\")\n",
    "    y_test_all = []\n",
    "    pred_all = []\n",
    "    \n",
    "    for (training_dataset, test_dataset) in experiment_arr:\n",
    "\n",
    "        X_train = training_dataset.filter(items=most_important_features).loc[:, training_dataset.filter(items=most_important_features).columns != \"label_3m\"]\n",
    "        y_train = training_dataset[\"label_3m\"]\n",
    "        training_dataset = None\n",
    "        \n",
    "        \n",
    "        clf = make_pipeline(StandardScaler(), LinearSVC(C=4.228518,\n",
    "                                                        tol=0.18626,\n",
    "                                                        dual=False,\n",
    "                                                        fit_intercept=False,\n",
    "                                                        class_weight=\"balanced\",\n",
    "                                                        intercept_scaling=1.46756,\n",
    "                                                        max_iter=471,\n",
    "                                                        verbose=3))\n",
    "\n",
    "        clf.fit(X_train, y_train)\n",
    "\n",
    "        X_test = test_dataset.filter(items=most_important_features).loc[:, test_dataset.filter(items=most_important_features).columns != \"label_3m\"]\n",
    "        y_test = test_dataset[\"label_3m\"]\n",
    "        \n",
    "        print(f\"Amount of features X_train: {len(X_train.columns)}, X_test: {len(X_test.columns)}\")\n",
    "\n",
    "        pred = clf.predict(X_test)\n",
    "\n",
    "        for i, pred_var in enumerate(pred):\n",
    "            y_test_all.append(y_test[i])\n",
    "            pred_all.append(pred_var)\n",
    "\n",
    "    print(\"\\n\")\n",
    "    print(f\"Amount of features used:   {num_features}\")\n",
    "    print(\"Cohen's kappa score        \", cohen_kappa_score(y_test_all, pred_all))\n",
    "    print(\"Accuracy score             \", accuracy_score(y_test_all, pred_all))\n",
    "    print(\"Recall score               \", recall_score(y_test_all, pred_all))\n",
    "    print(\"Precision score            \", precision_score(y_test_all, pred_all))\n",
    "    print(\"\\n------------------------------------------------------\\n\")"
   ]
  },
  {
   "cell_type": "code",
   "execution_count": null,
   "metadata": {},
   "outputs": [],
   "source": []
  },
  {
   "cell_type": "markdown",
   "metadata": {},
   "source": [
    "# Optimization"
   ]
  },
  {
   "cell_type": "code",
   "execution_count": 18,
   "metadata": {},
   "outputs": [],
   "source": [
    "def optim_function(tol=0.0001,\n",
    "                   C=1,\n",
    "                   intercept_scaling=1,\n",
    "                   verbose=0,\n",
    "                   max_iter=1000,\n",
    "                   class_weight=0,\n",
    "                   fit_intercept = 0,\n",
    "                   dual = 0):\n",
    "    \n",
    "    max_iter = int(max_iter)\n",
    "    verbose = int(verbose)\n",
    "    class_weight = None if int(class_weight) == 0 else \"balanced\"\n",
    "    fit_intercept = False if int(fit_intercept) == 0 else True\n",
    "    dual = False if int(dual) == 0 else True\n",
    "    \n",
    "    clf = make_pipeline(StandardScaler(), LinearSVC(tol=tol,\n",
    "                                                    C=C,\n",
    "                                                    intercept_scaling=intercept_scaling,\n",
    "                                                    verbose=verbose,\n",
    "                                                    max_iter=max_iter,\n",
    "                                                    class_weight=class_weight,\n",
    "                                                    fit_intercept=fit_intercept,\n",
    "                                                    dual=dual))\n",
    "\n",
    "    clf.fit(X_train, y_train)\n",
    "    \n",
    "    pred = clf.predict(X_test)\n",
    "    kappa = cohen_kappa_score(y_test, pred)\n",
    "    return kappa"
   ]
  },
  {
   "cell_type": "code",
   "execution_count": 5,
   "metadata": {},
   "outputs": [],
   "source": [
    "X_train, y_train = np.array(zone_4_resampled.loc[:, zone_4_resampled.columns != 'label_3m']), np.array(zone_4_resampled[\"label_3m\"]).astype(int)\n",
    "zone_4_resampled = None\n",
    "zone_7_resampled = None\n",
    "\n",
    "X_test, y_test = np.array(zone_7.loc[:, zone_7.columns != 'label_3m']), np.array(zone_7[\"label_3m\"]).astype(int)\n",
    "zone_7 = None\n",
    "zone_4 = None"
   ]
  },
  {
   "cell_type": "code",
   "execution_count": 15,
   "metadata": {},
   "outputs": [
    {
     "data": {
      "text/plain": [
       "(317175, 81)"
      ]
     },
     "execution_count": 15,
     "metadata": {},
     "output_type": "execute_result"
    }
   ],
   "source": [
    "X_train.shape"
   ]
  },
  {
   "cell_type": "code",
   "execution_count": 19,
   "metadata": {},
   "outputs": [],
   "source": [
    "pbounds = {\"tol\": (0.000001, 1),\n",
    "           \"C\": (0.1, 10),\n",
    "           \"intercept_scaling\": (0, 10),\n",
    "           \"verbose\": (0, 10),\n",
    "           \"max_iter\": (10, 5000),\n",
    "           \"class_weight\": (0, 2),\n",
    "           \"fit_intercept\": (0, 2),\n",
    "           \"dual\": (0, 2)\n",
    "          }\n",
    "\n",
    "optimizer = BayesianOptimization(\n",
    "    f=optim_function,\n",
    "    pbounds=pbounds,\n",
    "    random_state=1,\n",
    "    verbose=2,\n",
    ")"
   ]
  },
  {
   "cell_type": "code",
   "execution_count": 20,
   "metadata": {
    "scrolled": false
   },
   "outputs": [
    {
     "name": "stdout",
     "output_type": "stream",
     "text": [
      "|   iter    |  target   |     C     | class_... |   dual    | fit_in... | interc... | max_iter  |    tol    |  verbose  |\n",
      "-------------------------------------------------------------------------------------------------------------------------\n",
      "[LibLinear]| \u001b[0m 1       \u001b[0m | \u001b[0m 0.4329  \u001b[0m | \u001b[0m 4.229   \u001b[0m | \u001b[0m 1.441   \u001b[0m | \u001b[0m 0.000228\u001b[0m | \u001b[0m 0.6047  \u001b[0m | \u001b[0m 1.468   \u001b[0m | \u001b[0m 470.8   \u001b[0m | \u001b[0m 0.1863  \u001b[0m | \u001b[0m 3.456   \u001b[0m |\n",
      "[LibLinear]| \u001b[0m 2       \u001b[0m | \u001b[0m 0.3304  \u001b[0m | \u001b[0m 4.028   \u001b[0m | \u001b[0m 1.078   \u001b[0m | \u001b[0m 0.8384  \u001b[0m | \u001b[0m 1.37    \u001b[0m | \u001b[0m 2.045   \u001b[0m | \u001b[0m 4.392e+0\u001b[0m | \u001b[0m 0.02739 \u001b[0m | \u001b[0m 6.705   \u001b[0m |\n",
      "[LibLinear]| \u001b[0m 3       \u001b[0m | \u001b[0m 0.3801  \u001b[0m | \u001b[0m 4.231   \u001b[0m | \u001b[0m 1.117   \u001b[0m | \u001b[0m 0.2808  \u001b[0m | \u001b[0m 0.3962  \u001b[0m | \u001b[0m 8.007   \u001b[0m | \u001b[0m 4.842e+0\u001b[0m | \u001b[0m 0.3134  \u001b[0m | \u001b[0m 6.923   \u001b[0m |\n",
      "[LibLinear]| \u001b[0m 4       \u001b[0m | \u001b[0m 0.4329  \u001b[0m | \u001b[0m 8.776   \u001b[0m | \u001b[0m 1.789   \u001b[0m | \u001b[0m 0.1701  \u001b[0m | \u001b[0m 0.07811 \u001b[0m | \u001b[0m 1.698   \u001b[0m | \u001b[0m 4.392e+0\u001b[0m | \u001b[0m 0.09835 \u001b[0m | \u001b[0m 4.211   \u001b[0m |\n",
      "[LibLinear]"
     ]
    },
    {
     "name": "stderr",
     "output_type": "stream",
     "text": [
      "C:\\Users\\Jonatan\\.conda\\envs\\pytorch\\lib\\site-packages\\sklearn\\svm\\_base.py:946: ConvergenceWarning: Liblinear failed to converge, increase the number of iterations.\n",
      "  warnings.warn(\"Liblinear failed to converge, increase \"\n"
     ]
    },
    {
     "name": "stdout",
     "output_type": "stream",
     "text": [
      "| \u001b[0m 5       \u001b[0m | \u001b[0m 0.2675  \u001b[0m | \u001b[0m 9.583   \u001b[0m | \u001b[0m 1.066   \u001b[0m | \u001b[0m 1.384   \u001b[0m | \u001b[0m 0.631   \u001b[0m | \u001b[0m 6.865   \u001b[0m | \u001b[0m 4.175e+0\u001b[0m | \u001b[0m 0.01829 \u001b[0m | \u001b[0m 7.501   \u001b[0m |\n",
      "| \u001b[0m 6       \u001b[0m | \u001b[0m 0.3801  \u001b[0m | \u001b[0m 10.0    \u001b[0m | \u001b[0m 2.0     \u001b[0m | \u001b[0m 0.0     \u001b[0m | \u001b[0m 0.0     \u001b[0m | \u001b[0m 0.0     \u001b[0m | \u001b[0m 4.595e+0\u001b[0m | \u001b[0m 1.0     \u001b[0m | \u001b[0m 0.0     \u001b[0m |\n",
      "[LibLinear]| \u001b[0m 7       \u001b[0m | \u001b[0m 0.4329  \u001b[0m | \u001b[0m 3.787   \u001b[0m | \u001b[0m 1.789   \u001b[0m | \u001b[0m 0.2342  \u001b[0m | \u001b[0m 0.6831  \u001b[0m | \u001b[0m 4.834   \u001b[0m | \u001b[0m 689.0   \u001b[0m | \u001b[0m 0.1647  \u001b[0m | \u001b[0m 1.741   \u001b[0m |\n",
      "[LibLinear]"
     ]
    },
    {
     "name": "stderr",
     "output_type": "stream",
     "text": [
      "C:\\Users\\Jonatan\\.conda\\envs\\pytorch\\lib\\site-packages\\sklearn\\svm\\_base.py:946: ConvergenceWarning: Liblinear failed to converge, increase the number of iterations.\n",
      "  warnings.warn(\"Liblinear failed to converge, increase \"\n"
     ]
    },
    {
     "name": "stdout",
     "output_type": "stream",
     "text": [
      "| \u001b[0m 8       \u001b[0m | \u001b[0m 0.1008  \u001b[0m | \u001b[0m 3.822   \u001b[0m | \u001b[0m 1.538   \u001b[0m | \u001b[0m 1.218   \u001b[0m | \u001b[0m 0.03645 \u001b[0m | \u001b[0m 6.874   \u001b[0m | \u001b[0m 245.1   \u001b[0m | \u001b[0m 0.1495  \u001b[0m | \u001b[0m 6.514   \u001b[0m |\n",
      "[LibLinear]"
     ]
    },
    {
     "name": "stderr",
     "output_type": "stream",
     "text": [
      "C:\\Users\\Jonatan\\.conda\\envs\\pytorch\\lib\\site-packages\\sklearn\\svm\\_base.py:946: ConvergenceWarning: Liblinear failed to converge, increase the number of iterations.\n",
      "  warnings.warn(\"Liblinear failed to converge, increase \"\n"
     ]
    },
    {
     "name": "stdout",
     "output_type": "stream",
     "text": [
      "| \u001b[0m 9       \u001b[0m | \u001b[0m 0.2425  \u001b[0m | \u001b[0m 7.162   \u001b[0m | \u001b[0m 1.184   \u001b[0m | \u001b[0m 1.428   \u001b[0m | \u001b[0m 1.313   \u001b[0m | \u001b[0m 1.677   \u001b[0m | \u001b[0m 894.4   \u001b[0m | \u001b[0m 0.6342  \u001b[0m | \u001b[0m 1.749   \u001b[0m |\n",
      "[LibLinear]"
     ]
    },
    {
     "name": "stderr",
     "output_type": "stream",
     "text": [
      "C:\\Users\\Jonatan\\.conda\\envs\\pytorch\\lib\\site-packages\\sklearn\\svm\\_base.py:946: ConvergenceWarning: Liblinear failed to converge, increase the number of iterations.\n",
      "  warnings.warn(\"Liblinear failed to converge, increase \"\n"
     ]
    },
    {
     "name": "stdout",
     "output_type": "stream",
     "text": [
      "| \u001b[0m 10      \u001b[0m | \u001b[0m 0.2779  \u001b[0m | \u001b[0m 1.373   \u001b[0m | \u001b[0m 0.04166 \u001b[0m | \u001b[0m 1.774   \u001b[0m | \u001b[0m 1.599   \u001b[0m | \u001b[0m 8.026   \u001b[0m | \u001b[0m 2.362e+0\u001b[0m | \u001b[0m 0.8262  \u001b[0m | \u001b[0m 6.005   \u001b[0m |\n",
      "[LibLinear]"
     ]
    },
    {
     "name": "stderr",
     "output_type": "stream",
     "text": [
      "C:\\Users\\Jonatan\\.conda\\envs\\pytorch\\lib\\site-packages\\sklearn\\svm\\_base.py:946: ConvergenceWarning: Liblinear failed to converge, increase the number of iterations.\n",
      "  warnings.warn(\"Liblinear failed to converge, increase \"\n"
     ]
    },
    {
     "name": "stdout",
     "output_type": "stream",
     "text": [
      "| \u001b[0m 11      \u001b[0m | \u001b[0m 0.2655  \u001b[0m | \u001b[0m 5.035   \u001b[0m | \u001b[0m 1.262   \u001b[0m | \u001b[0m 1.25    \u001b[0m | \u001b[0m 0.8015  \u001b[0m | \u001b[0m 1.133   \u001b[0m | \u001b[0m 3.265e+0\u001b[0m | \u001b[0m 0.7222  \u001b[0m | \u001b[0m 1.165   \u001b[0m |\n",
      "[LibLinear]| \u001b[0m 12      \u001b[0m | \u001b[0m 0.3872  \u001b[0m | \u001b[0m 6.221   \u001b[0m | \u001b[0m 1.23    \u001b[0m | \u001b[0m 0.4874  \u001b[0m | \u001b[0m 1.118   \u001b[0m | \u001b[0m 9.937   \u001b[0m | \u001b[0m 1.638e+0\u001b[0m | \u001b[0m 0.3732  \u001b[0m | \u001b[0m 9.537   \u001b[0m |\n",
      "[LibLinear]"
     ]
    },
    {
     "name": "stderr",
     "output_type": "stream",
     "text": [
      "C:\\Users\\Jonatan\\.conda\\envs\\pytorch\\lib\\site-packages\\sklearn\\svm\\_base.py:946: ConvergenceWarning: Liblinear failed to converge, increase the number of iterations.\n",
      "  warnings.warn(\"Liblinear failed to converge, increase \"\n"
     ]
    },
    {
     "name": "stdout",
     "output_type": "stream",
     "text": [
      "| \u001b[0m 13      \u001b[0m | \u001b[0m 0.2432  \u001b[0m | \u001b[0m 4.788   \u001b[0m | \u001b[0m 1.044   \u001b[0m | \u001b[0m 1.372   \u001b[0m | \u001b[0m 0.7989  \u001b[0m | \u001b[0m 1.831   \u001b[0m | \u001b[0m 470.4   \u001b[0m | \u001b[0m 0.6119  \u001b[0m | \u001b[0m 1.144   \u001b[0m |\n",
      "[LibLinear]| \u001b[0m 14      \u001b[0m | \u001b[0m 0.2813  \u001b[0m | \u001b[0m 0.1     \u001b[0m | \u001b[0m 2.0     \u001b[0m | \u001b[0m 0.0     \u001b[0m | \u001b[0m 0.0     \u001b[0m | \u001b[0m 0.0     \u001b[0m | \u001b[0m 518.6   \u001b[0m | \u001b[0m 1e-06   \u001b[0m | \u001b[0m 10.0    \u001b[0m |\n",
      "[LibLinear]"
     ]
    },
    {
     "name": "stderr",
     "output_type": "stream",
     "text": [
      "C:\\Users\\Jonatan\\.conda\\envs\\pytorch\\lib\\site-packages\\sklearn\\svm\\_base.py:946: ConvergenceWarning: Liblinear failed to converge, increase the number of iterations.\n",
      "  warnings.warn(\"Liblinear failed to converge, increase \"\n"
     ]
    },
    {
     "name": "stdout",
     "output_type": "stream",
     "text": [
      "| \u001b[0m 15      \u001b[0m | \u001b[0m 0.2683  \u001b[0m | \u001b[0m 5.385   \u001b[0m | \u001b[0m 0.7566  \u001b[0m | \u001b[0m 1.96    \u001b[0m | \u001b[0m 1.335   \u001b[0m | \u001b[0m 9.585   \u001b[0m | \u001b[0m 760.3   \u001b[0m | \u001b[0m 0.03762 \u001b[0m | \u001b[0m 5.232   \u001b[0m |\n",
      "[LibLinear]"
     ]
    },
    {
     "name": "stderr",
     "output_type": "stream",
     "text": [
      "C:\\Users\\Jonatan\\.conda\\envs\\pytorch\\lib\\site-packages\\sklearn\\svm\\_base.py:946: ConvergenceWarning: Liblinear failed to converge, increase the number of iterations.\n",
      "  warnings.warn(\"Liblinear failed to converge, increase \"\n"
     ]
    },
    {
     "name": "stdout",
     "output_type": "stream",
     "text": [
      "| \u001b[0m 16      \u001b[0m | \u001b[0m 0.08115 \u001b[0m | \u001b[0m 8.737   \u001b[0m | \u001b[0m 0.1163  \u001b[0m | \u001b[0m 1.327   \u001b[0m | \u001b[0m 0.2376  \u001b[0m | \u001b[0m 2.296   \u001b[0m | \u001b[0m 620.7   \u001b[0m | \u001b[0m 0.4915  \u001b[0m | \u001b[0m 5.956   \u001b[0m |\n"
     ]
    },
    {
     "name": "stderr",
     "output_type": "stream",
     "text": [
      "C:\\Users\\Jonatan\\.conda\\envs\\pytorch\\lib\\site-packages\\sklearn\\svm\\_base.py:946: ConvergenceWarning: Liblinear failed to converge, increase the number of iterations.\n",
      "  warnings.warn(\"Liblinear failed to converge, increase \"\n"
     ]
    },
    {
     "name": "stdout",
     "output_type": "stream",
     "text": [
      "| \u001b[0m 17      \u001b[0m | \u001b[0m 0.2794  \u001b[0m | \u001b[0m 9.619   \u001b[0m | \u001b[0m 1.338   \u001b[0m | \u001b[0m 1.467   \u001b[0m | \u001b[0m 0.8963  \u001b[0m | \u001b[0m 4.206   \u001b[0m | \u001b[0m 4.466e+0\u001b[0m | \u001b[0m 0.9501  \u001b[0m | \u001b[0m 0.5025  \u001b[0m |\n",
      "[LibLinear]| \u001b[0m 18      \u001b[0m | \u001b[0m 0.4244  \u001b[0m | \u001b[0m 9.714   \u001b[0m | \u001b[0m 0.6098  \u001b[0m | \u001b[0m 0.03632 \u001b[0m | \u001b[0m 1.119   \u001b[0m | \u001b[0m 3.942   \u001b[0m | \u001b[0m 4.315e+0\u001b[0m | \u001b[0m 0.1537  \u001b[0m | \u001b[0m 2.107   \u001b[0m |\n",
      "[LibLinear]| \u001b[0m 19      \u001b[0m | \u001b[0m 0.3825  \u001b[0m | \u001b[0m 4.162   \u001b[0m | \u001b[0m 1.928   \u001b[0m | \u001b[0m 0.3087  \u001b[0m | \u001b[0m 1.331   \u001b[0m | \u001b[0m 4.997   \u001b[0m | \u001b[0m 1.716e+0\u001b[0m | \u001b[0m 0.4472  \u001b[0m | \u001b[0m 5.226   \u001b[0m |\n",
      "[LibLinear]| \u001b[0m 20      \u001b[0m | \u001b[0m 0.3801  \u001b[0m | \u001b[0m 0.3907  \u001b[0m | \u001b[0m 1.025   \u001b[0m | \u001b[0m 0.6015  \u001b[0m | \u001b[0m 0.1005  \u001b[0m | \u001b[0m 9.435   \u001b[0m | \u001b[0m 1.56e+03\u001b[0m | \u001b[0m 0.8554  \u001b[0m | \u001b[0m 1.384   \u001b[0m |\n",
      "[LibLinear]"
     ]
    },
    {
     "name": "stderr",
     "output_type": "stream",
     "text": [
      "C:\\Users\\Jonatan\\.conda\\envs\\pytorch\\lib\\site-packages\\sklearn\\svm\\_base.py:946: ConvergenceWarning: Liblinear failed to converge, increase the number of iterations.\n",
      "  warnings.warn(\"Liblinear failed to converge, increase \"\n"
     ]
    },
    {
     "name": "stdout",
     "output_type": "stream",
     "text": [
      "| \u001b[0m 21      \u001b[0m | \u001b[0m 0.2518  \u001b[0m | \u001b[0m 9.387   \u001b[0m | \u001b[0m 0.04127 \u001b[0m | \u001b[0m 1.022   \u001b[0m | \u001b[0m 0.4655  \u001b[0m | \u001b[0m 8.846   \u001b[0m | \u001b[0m 1.797e+0\u001b[0m | \u001b[0m 0.816   \u001b[0m | \u001b[0m 8.029   \u001b[0m |\n",
      "[LibLinear]| \u001b[0m 22      \u001b[0m | \u001b[0m 0.3791  \u001b[0m | \u001b[0m 6.864   \u001b[0m | \u001b[0m 0.481   \u001b[0m | \u001b[0m 0.5518  \u001b[0m | \u001b[0m 0.8973  \u001b[0m | \u001b[0m 3.413   \u001b[0m | \u001b[0m 4.674e+0\u001b[0m | \u001b[0m 0.506   \u001b[0m | \u001b[0m 7.283   \u001b[0m |\n",
      "[LibLinear]"
     ]
    },
    {
     "name": "stderr",
     "output_type": "stream",
     "text": [
      "C:\\Users\\Jonatan\\.conda\\envs\\pytorch\\lib\\site-packages\\sklearn\\svm\\_base.py:946: ConvergenceWarning: Liblinear failed to converge, increase the number of iterations.\n",
      "  warnings.warn(\"Liblinear failed to converge, increase \"\n"
     ]
    },
    {
     "name": "stdout",
     "output_type": "stream",
     "text": [
      "| \u001b[0m 23      \u001b[0m | \u001b[0m 0.2942  \u001b[0m | \u001b[0m 7.211   \u001b[0m | \u001b[0m 0.335   \u001b[0m | \u001b[0m 1.173   \u001b[0m | \u001b[0m 0.06545 \u001b[0m | \u001b[0m 3.987   \u001b[0m | \u001b[0m 4.758e+0\u001b[0m | \u001b[0m 0.6094  \u001b[0m | \u001b[0m 6.311   \u001b[0m |\n",
      "[LibLinear]"
     ]
    },
    {
     "name": "stderr",
     "output_type": "stream",
     "text": [
      "C:\\Users\\Jonatan\\.conda\\envs\\pytorch\\lib\\site-packages\\sklearn\\svm\\_base.py:946: ConvergenceWarning: Liblinear failed to converge, increase the number of iterations.\n",
      "  warnings.warn(\"Liblinear failed to converge, increase \"\n"
     ]
    },
    {
     "name": "stdout",
     "output_type": "stream",
     "text": [
      "| \u001b[0m 24      \u001b[0m | \u001b[0m 0.3025  \u001b[0m | \u001b[0m 8.581   \u001b[0m | \u001b[0m 1.638   \u001b[0m | \u001b[0m 1.798   \u001b[0m | \u001b[0m 1.08    \u001b[0m | \u001b[0m 5.913   \u001b[0m | \u001b[0m 4.923e+0\u001b[0m | \u001b[0m 0.1392  \u001b[0m | \u001b[0m 7.268   \u001b[0m |\n",
      "[LibLinear]| \u001b[0m 25      \u001b[0m | \u001b[0m 0.3801  \u001b[0m | \u001b[0m 5.862   \u001b[0m | \u001b[0m 1.708   \u001b[0m | \u001b[0m 0.8048  \u001b[0m | \u001b[0m 0.08678 \u001b[0m | \u001b[0m 3.084   \u001b[0m | \u001b[0m 1.478e+0\u001b[0m | \u001b[0m 0.7165  \u001b[0m | \u001b[0m 6.578   \u001b[0m |\n",
      "[LibLinear]| \u001b[0m 26      \u001b[0m | \u001b[0m 0.4313  \u001b[0m | \u001b[0m 9.8     \u001b[0m | \u001b[0m 0.7098  \u001b[0m | \u001b[0m 0.2412  \u001b[0m | \u001b[0m 0.5797  \u001b[0m | \u001b[0m 7.251   \u001b[0m | \u001b[0m 1.396e+0\u001b[0m | \u001b[0m 0.2772  \u001b[0m | \u001b[0m 2.267   \u001b[0m |\n",
      "[LibLinear]| \u001b[0m 27      \u001b[0m | \u001b[0m 0.4329  \u001b[0m | \u001b[0m 6.578   \u001b[0m | \u001b[0m 1.384   \u001b[0m | \u001b[0m 0.2099  \u001b[0m | \u001b[0m 0.7759  \u001b[0m | \u001b[0m 5.267   \u001b[0m | \u001b[0m 1.324e+0\u001b[0m | \u001b[0m 0.2253  \u001b[0m | \u001b[0m 8.616   \u001b[0m |\n",
      "[LibLinear]"
     ]
    },
    {
     "name": "stderr",
     "output_type": "stream",
     "text": [
      "C:\\Users\\Jonatan\\.conda\\envs\\pytorch\\lib\\site-packages\\sklearn\\svm\\_base.py:946: ConvergenceWarning: Liblinear failed to converge, increase the number of iterations.\n",
      "  warnings.warn(\"Liblinear failed to converge, increase \"\n"
     ]
    },
    {
     "name": "stdout",
     "output_type": "stream",
     "text": [
      "| \u001b[0m 28      \u001b[0m | \u001b[0m 0.2459  \u001b[0m | \u001b[0m 6.597   \u001b[0m | \u001b[0m 0.7572  \u001b[0m | \u001b[0m 1.517   \u001b[0m | \u001b[0m 1.139   \u001b[0m | \u001b[0m 9.356   \u001b[0m | \u001b[0m 1.249e+0\u001b[0m | \u001b[0m 0.3838  \u001b[0m | \u001b[0m 3.913   \u001b[0m |\n",
      "[LibLinear]| \u001b[0m 29      \u001b[0m | \u001b[0m 0.3791  \u001b[0m | \u001b[0m 6.713   \u001b[0m | \u001b[0m 0.3008  \u001b[0m | \u001b[0m 0.6507  \u001b[0m | \u001b[0m 0.635   \u001b[0m | \u001b[0m 9.866   \u001b[0m | \u001b[0m 3.721e+0\u001b[0m | \u001b[0m 0.5603  \u001b[0m | \u001b[0m 4.829   \u001b[0m |\n",
      "[LibLinear]| \u001b[0m 30      \u001b[0m | \u001b[0m 0.4241  \u001b[0m | \u001b[0m 2.687   \u001b[0m | \u001b[0m 1.12    \u001b[0m | \u001b[0m 0.5266  \u001b[0m | \u001b[0m 1.502   \u001b[0m | \u001b[0m 3.018   \u001b[0m | \u001b[0m 3.806e+0\u001b[0m | \u001b[0m 0.1645  \u001b[0m | \u001b[0m 3.455   \u001b[0m |\n",
      "[LibLinear]"
     ]
    },
    {
     "name": "stderr",
     "output_type": "stream",
     "text": [
      "C:\\Users\\Jonatan\\.conda\\envs\\pytorch\\lib\\site-packages\\sklearn\\svm\\_base.py:946: ConvergenceWarning: Liblinear failed to converge, increase the number of iterations.\n",
      "  warnings.warn(\"Liblinear failed to converge, increase \"\n"
     ]
    },
    {
     "name": "stdout",
     "output_type": "stream",
     "text": [
      "| \u001b[0m 31      \u001b[0m | \u001b[0m 0.2731  \u001b[0m | \u001b[0m 9.035   \u001b[0m | \u001b[0m 1.934   \u001b[0m | \u001b[0m 1.434   \u001b[0m | \u001b[0m 0.7659  \u001b[0m | \u001b[0m 5.026   \u001b[0m | \u001b[0m 3.881e+0\u001b[0m | \u001b[0m 0.1325  \u001b[0m | \u001b[0m 6.627   \u001b[0m |\n",
      "[LibLinear]"
     ]
    },
    {
     "name": "stderr",
     "output_type": "stream",
     "text": [
      "C:\\Users\\Jonatan\\.conda\\envs\\pytorch\\lib\\site-packages\\sklearn\\svm\\_base.py:946: ConvergenceWarning: Liblinear failed to converge, increase the number of iterations.\n",
      "  warnings.warn(\"Liblinear failed to converge, increase \"\n"
     ]
    },
    {
     "name": "stdout",
     "output_type": "stream",
     "text": [
      "| \u001b[0m 32      \u001b[0m | \u001b[0m 0.28    \u001b[0m | \u001b[0m 6.019   \u001b[0m | \u001b[0m 0.5142  \u001b[0m | \u001b[0m 1.535   \u001b[0m | \u001b[0m 0.02814 \u001b[0m | \u001b[0m 3.019   \u001b[0m | \u001b[0m 3.635e+0\u001b[0m | \u001b[0m 0.7108  \u001b[0m | \u001b[0m 5.359   \u001b[0m |\n",
      "[LibLinear]"
     ]
    },
    {
     "name": "stderr",
     "output_type": "stream",
     "text": [
      "C:\\Users\\Jonatan\\.conda\\envs\\pytorch\\lib\\site-packages\\sklearn\\svm\\_base.py:946: ConvergenceWarning: Liblinear failed to converge, increase the number of iterations.\n",
      "  warnings.warn(\"Liblinear failed to converge, increase \"\n"
     ]
    },
    {
     "name": "stdout",
     "output_type": "stream",
     "text": [
      "| \u001b[0m 33      \u001b[0m | \u001b[0m 0.2349  \u001b[0m | \u001b[0m 5.155   \u001b[0m | \u001b[0m 1.814   \u001b[0m | \u001b[0m 1.964   \u001b[0m | \u001b[0m 1.179   \u001b[0m | \u001b[0m 7.77    \u001b[0m | \u001b[0m 2.812e+0\u001b[0m | \u001b[0m 0.8616  \u001b[0m | \u001b[0m 9.883   \u001b[0m |\n",
      "[LibLinear]| \u001b[0m 34      \u001b[0m | \u001b[0m 0.3886  \u001b[0m | \u001b[0m 0.7447  \u001b[0m | \u001b[0m 1.606   \u001b[0m | \u001b[0m 0.9669  \u001b[0m | \u001b[0m 1.658   \u001b[0m | \u001b[0m 8.881   \u001b[0m | \u001b[0m 2.082e+0\u001b[0m | \u001b[0m 0.8162  \u001b[0m | \u001b[0m 1.053   \u001b[0m |\n",
      "[LibLinear]"
     ]
    },
    {
     "name": "stderr",
     "output_type": "stream",
     "text": [
      "C:\\Users\\Jonatan\\.conda\\envs\\pytorch\\lib\\site-packages\\sklearn\\svm\\_base.py:946: ConvergenceWarning: Liblinear failed to converge, increase the number of iterations.\n",
      "  warnings.warn(\"Liblinear failed to converge, increase \"\n"
     ]
    },
    {
     "name": "stdout",
     "output_type": "stream",
     "text": [
      "| \u001b[0m 35      \u001b[0m | \u001b[0m 0.3052  \u001b[0m | \u001b[0m 2.49    \u001b[0m | \u001b[0m 1.923   \u001b[0m | \u001b[0m 1.568   \u001b[0m | \u001b[0m 0.02737 \u001b[0m | \u001b[0m 1.443   \u001b[0m | \u001b[0m 2.164e+0\u001b[0m | \u001b[0m 0.6088  \u001b[0m | \u001b[0m 9.068   \u001b[0m |\n",
      "[LibLinear]| \u001b[0m 36      \u001b[0m | \u001b[0m 0.3193  \u001b[0m | \u001b[0m 7.921   \u001b[0m | \u001b[0m 1.437   \u001b[0m | \u001b[0m 0.3833  \u001b[0m | \u001b[0m 1.608   \u001b[0m | \u001b[0m 9.454   \u001b[0m | \u001b[0m 2e+03   \u001b[0m | \u001b[0m 0.04664 \u001b[0m | \u001b[0m 6.072   \u001b[0m |\n",
      "[LibLinear]| \u001b[0m 37      \u001b[0m | \u001b[0m 0.3835  \u001b[0m | \u001b[0m 1.599   \u001b[0m | \u001b[0m 0.8897  \u001b[0m | \u001b[0m 0.00333 \u001b[0m | \u001b[0m 1.288   \u001b[0m | \u001b[0m 5.362   \u001b[0m | \u001b[0m 10.23   \u001b[0m | \u001b[0m 0.3706  \u001b[0m | \u001b[0m 9.407   \u001b[0m |\n",
      "[LibLinear]| \u001b[0m 38      \u001b[0m | \u001b[0m 0.4329  \u001b[0m | \u001b[0m 8.313   \u001b[0m | \u001b[0m 1.616   \u001b[0m | \u001b[0m 0.6665  \u001b[0m | \u001b[0m 0.8615  \u001b[0m | \u001b[0m 7.242   \u001b[0m | \u001b[0m 93.33   \u001b[0m | \u001b[0m 0.2405  \u001b[0m | \u001b[0m 5.725   \u001b[0m |\n",
      "| \u001b[0m 39      \u001b[0m | \u001b[0m 0.3801  \u001b[0m | \u001b[0m 2.632   \u001b[0m | \u001b[0m 1.937   \u001b[0m | \u001b[0m 0.8134  \u001b[0m | \u001b[0m 0.6512  \u001b[0m | \u001b[0m 1.412   \u001b[0m | \u001b[0m 2.584e+0\u001b[0m | \u001b[0m 0.3943  \u001b[0m | \u001b[0m 0.4686  \u001b[0m |\n",
      "[LibLinear]"
     ]
    },
    {
     "name": "stderr",
     "output_type": "stream",
     "text": [
      "C:\\Users\\Jonatan\\.conda\\envs\\pytorch\\lib\\site-packages\\sklearn\\svm\\_base.py:946: ConvergenceWarning: Liblinear failed to converge, increase the number of iterations.\n",
      "  warnings.warn(\"Liblinear failed to converge, increase \"\n"
     ]
    },
    {
     "name": "stdout",
     "output_type": "stream",
     "text": [
      "| \u001b[0m 40      \u001b[0m | \u001b[0m 0.2545  \u001b[0m | \u001b[0m 6.799   \u001b[0m | \u001b[0m 0.7353  \u001b[0m | \u001b[0m 1.088   \u001b[0m | \u001b[0m 0.4556  \u001b[0m | \u001b[0m 9.801   \u001b[0m | \u001b[0m 2.498e+0\u001b[0m | \u001b[0m 0.9052  \u001b[0m | \u001b[0m 7.704   \u001b[0m |\n",
      "[LibLinear]| \u001b[0m 41      \u001b[0m | \u001b[0m 0.3801  \u001b[0m | \u001b[0m 8.713   \u001b[0m | \u001b[0m 1.95    \u001b[0m | \u001b[0m 0.5781  \u001b[0m | \u001b[0m 0.4342  \u001b[0m | \u001b[0m 1.977   \u001b[0m | \u001b[0m 2.668e+0\u001b[0m | \u001b[0m 0.8787  \u001b[0m | \u001b[0m 7.116   \u001b[0m |\n",
      "[LibLinear]| \u001b[0m 42      \u001b[0m | \u001b[0m 0.3791  \u001b[0m | \u001b[0m 0.6096  \u001b[0m | \u001b[0m 0.1502  \u001b[0m | \u001b[0m 0.08178 \u001b[0m | \u001b[0m 0.3874  \u001b[0m | \u001b[0m 0.1703  \u001b[0m | \u001b[0m 3.042e+0\u001b[0m | \u001b[0m 0.8357  \u001b[0m | \u001b[0m 9.807   \u001b[0m |\n",
      "[LibLinear]"
     ]
    },
    {
     "name": "stderr",
     "output_type": "stream",
     "text": [
      "C:\\Users\\Jonatan\\.conda\\envs\\pytorch\\lib\\site-packages\\sklearn\\svm\\_base.py:946: ConvergenceWarning: Liblinear failed to converge, increase the number of iterations.\n",
      "  warnings.warn(\"Liblinear failed to converge, increase \"\n"
     ]
    },
    {
     "name": "stdout",
     "output_type": "stream",
     "text": [
      "| \u001b[0m 43      \u001b[0m | \u001b[0m 0.2266  \u001b[0m | \u001b[0m 8.05    \u001b[0m | \u001b[0m 0.6848  \u001b[0m | \u001b[0m 1.745   \u001b[0m | \u001b[0m 1.977   \u001b[0m | \u001b[0m 8.872   \u001b[0m | \u001b[0m 2.957e+0\u001b[0m | \u001b[0m 0.03906 \u001b[0m | \u001b[0m 2.53    \u001b[0m |\n",
      "[LibLinear]| \u001b[0m 44      \u001b[0m | \u001b[0m 0.3899  \u001b[0m | \u001b[0m 9.845   \u001b[0m | \u001b[0m 0.8113  \u001b[0m | \u001b[0m 0.06603 \u001b[0m | \u001b[0m 1.481   \u001b[0m | \u001b[0m 9.359   \u001b[0m | \u001b[0m 3.126e+0\u001b[0m | \u001b[0m 0.4063  \u001b[0m | \u001b[0m 5.741   \u001b[0m |\n",
      "[LibLinear]| \u001b[0m 45      \u001b[0m | \u001b[0m 0.3791  \u001b[0m | \u001b[0m 2.083   \u001b[0m | \u001b[0m 0.8191  \u001b[0m | \u001b[0m 0.2689  \u001b[0m | \u001b[0m 0.6722  \u001b[0m | \u001b[0m 9.61    \u001b[0m | \u001b[0m 3.452e+0\u001b[0m | \u001b[0m 0.5374  \u001b[0m | \u001b[0m 5.886   \u001b[0m |\n",
      "[LibLinear]"
     ]
    },
    {
     "name": "stderr",
     "output_type": "stream",
     "text": [
      "C:\\Users\\Jonatan\\.conda\\envs\\pytorch\\lib\\site-packages\\sklearn\\svm\\_base.py:946: ConvergenceWarning: Liblinear failed to converge, increase the number of iterations.\n",
      "  warnings.warn(\"Liblinear failed to converge, increase \"\n"
     ]
    },
    {
     "name": "stdout",
     "output_type": "stream",
     "text": [
      "| \u001b[0m 46      \u001b[0m | \u001b[0m 0.2781  \u001b[0m | \u001b[0m 4.585   \u001b[0m | \u001b[0m 0.2227  \u001b[0m | \u001b[0m 1.613   \u001b[0m | \u001b[0m 1.879   \u001b[0m | \u001b[0m 1.803   \u001b[0m | \u001b[0m 3.37e+03\u001b[0m | \u001b[0m 0.7787  \u001b[0m | \u001b[0m 8.015   \u001b[0m |\n",
      "[LibLinear]"
     ]
    },
    {
     "name": "stderr",
     "output_type": "stream",
     "text": [
      "C:\\Users\\Jonatan\\.conda\\envs\\pytorch\\lib\\site-packages\\sklearn\\svm\\_base.py:946: ConvergenceWarning: Liblinear failed to converge, increase the number of iterations.\n",
      "  warnings.warn(\"Liblinear failed to converge, increase \"\n"
     ]
    },
    {
     "name": "stdout",
     "output_type": "stream",
     "text": [
      "| \u001b[0m 47      \u001b[0m | \u001b[0m 0.2773  \u001b[0m | \u001b[0m 1.474   \u001b[0m | \u001b[0m 1.722   \u001b[0m | \u001b[0m 1.25    \u001b[0m | \u001b[0m 0.02928 \u001b[0m | \u001b[0m 3.886   \u001b[0m | \u001b[0m 1.071e+0\u001b[0m | \u001b[0m 0.4483  \u001b[0m | \u001b[0m 9.598   \u001b[0m |\n",
      "| \u001b[0m 48      \u001b[0m | \u001b[0m 0.3791  \u001b[0m | \u001b[0m 9.585   \u001b[0m | \u001b[0m 0.4678  \u001b[0m | \u001b[0m 0.4763  \u001b[0m | \u001b[0m 0.5932  \u001b[0m | \u001b[0m 3.091   \u001b[0m | \u001b[0m 3.534e+0\u001b[0m | \u001b[0m 0.6572  \u001b[0m | \u001b[0m 0.04504 \u001b[0m |\n",
      "[LibLinear]"
     ]
    },
    {
     "ename": "KeyboardInterrupt",
     "evalue": "",
     "output_type": "error",
     "traceback": [
      "\u001b[1;31m---------------------------------------------------------------------------\u001b[0m",
      "\u001b[1;31mKeyError\u001b[0m                                  Traceback (most recent call last)",
      "\u001b[1;32m~\\.conda\\envs\\pytorch\\lib\\site-packages\\bayes_opt\\target_space.py\u001b[0m in \u001b[0;36mprobe\u001b[1;34m(self, params)\u001b[0m\n\u001b[0;32m    190\u001b[0m         \u001b[1;32mtry\u001b[0m\u001b[1;33m:\u001b[0m\u001b[1;33m\u001b[0m\u001b[1;33m\u001b[0m\u001b[0m\n\u001b[1;32m--> 191\u001b[1;33m             \u001b[0mtarget\u001b[0m \u001b[1;33m=\u001b[0m \u001b[0mself\u001b[0m\u001b[1;33m.\u001b[0m\u001b[0m_cache\u001b[0m\u001b[1;33m[\u001b[0m\u001b[0m_hashable\u001b[0m\u001b[1;33m(\u001b[0m\u001b[0mx\u001b[0m\u001b[1;33m)\u001b[0m\u001b[1;33m]\u001b[0m\u001b[1;33m\u001b[0m\u001b[1;33m\u001b[0m\u001b[0m\n\u001b[0m\u001b[0;32m    192\u001b[0m         \u001b[1;32mexcept\u001b[0m \u001b[0mKeyError\u001b[0m\u001b[1;33m:\u001b[0m\u001b[1;33m\u001b[0m\u001b[1;33m\u001b[0m\u001b[0m\n",
      "\u001b[1;31mKeyError\u001b[0m: (1.7764818435281602, 1.964293478601109, 1.6913939938265667, 0.5861260303097622, 9.082497541730625, 4027.723667580962, 0.4469924948384585, 1.158035159579528)",
      "\nDuring handling of the above exception, another exception occurred:\n",
      "\u001b[1;31mKeyboardInterrupt\u001b[0m                         Traceback (most recent call last)",
      "\u001b[1;32m<ipython-input-20-4f6b9349beb7>\u001b[0m in \u001b[0;36m<module>\u001b[1;34m\u001b[0m\n\u001b[1;32m----> 1\u001b[1;33m \u001b[0moptimizer\u001b[0m\u001b[1;33m.\u001b[0m\u001b[0mmaximize\u001b[0m\u001b[1;33m(\u001b[0m\u001b[0mn_iter\u001b[0m\u001b[1;33m=\u001b[0m\u001b[1;36m100\u001b[0m\u001b[1;33m)\u001b[0m\u001b[1;33m\u001b[0m\u001b[1;33m\u001b[0m\u001b[0m\n\u001b[0m",
      "\u001b[1;32m~\\.conda\\envs\\pytorch\\lib\\site-packages\\bayes_opt\\bayesian_optimization.py\u001b[0m in \u001b[0;36mmaximize\u001b[1;34m(self, init_points, n_iter, acq, kappa, xi, **gp_params)\u001b[0m\n\u001b[0;32m    172\u001b[0m                 \u001b[0miteration\u001b[0m \u001b[1;33m+=\u001b[0m \u001b[1;36m1\u001b[0m\u001b[1;33m\u001b[0m\u001b[1;33m\u001b[0m\u001b[0m\n\u001b[0;32m    173\u001b[0m \u001b[1;33m\u001b[0m\u001b[0m\n\u001b[1;32m--> 174\u001b[1;33m             \u001b[0mself\u001b[0m\u001b[1;33m.\u001b[0m\u001b[0mprobe\u001b[0m\u001b[1;33m(\u001b[0m\u001b[0mx_probe\u001b[0m\u001b[1;33m,\u001b[0m \u001b[0mlazy\u001b[0m\u001b[1;33m=\u001b[0m\u001b[1;32mFalse\u001b[0m\u001b[1;33m)\u001b[0m\u001b[1;33m\u001b[0m\u001b[1;33m\u001b[0m\u001b[0m\n\u001b[0m\u001b[0;32m    175\u001b[0m \u001b[1;33m\u001b[0m\u001b[0m\n\u001b[0;32m    176\u001b[0m         \u001b[0mself\u001b[0m\u001b[1;33m.\u001b[0m\u001b[0mdispatch\u001b[0m\u001b[1;33m(\u001b[0m\u001b[0mEvents\u001b[0m\u001b[1;33m.\u001b[0m\u001b[0mOPTIMIZATION_END\u001b[0m\u001b[1;33m)\u001b[0m\u001b[1;33m\u001b[0m\u001b[1;33m\u001b[0m\u001b[0m\n",
      "\u001b[1;32m~\\.conda\\envs\\pytorch\\lib\\site-packages\\bayes_opt\\bayesian_optimization.py\u001b[0m in \u001b[0;36mprobe\u001b[1;34m(self, params, lazy)\u001b[0m\n\u001b[0;32m    110\u001b[0m             \u001b[0mself\u001b[0m\u001b[1;33m.\u001b[0m\u001b[0m_queue\u001b[0m\u001b[1;33m.\u001b[0m\u001b[0madd\u001b[0m\u001b[1;33m(\u001b[0m\u001b[0mparams\u001b[0m\u001b[1;33m)\u001b[0m\u001b[1;33m\u001b[0m\u001b[1;33m\u001b[0m\u001b[0m\n\u001b[0;32m    111\u001b[0m         \u001b[1;32melse\u001b[0m\u001b[1;33m:\u001b[0m\u001b[1;33m\u001b[0m\u001b[1;33m\u001b[0m\u001b[0m\n\u001b[1;32m--> 112\u001b[1;33m             \u001b[0mself\u001b[0m\u001b[1;33m.\u001b[0m\u001b[0m_space\u001b[0m\u001b[1;33m.\u001b[0m\u001b[0mprobe\u001b[0m\u001b[1;33m(\u001b[0m\u001b[0mparams\u001b[0m\u001b[1;33m)\u001b[0m\u001b[1;33m\u001b[0m\u001b[1;33m\u001b[0m\u001b[0m\n\u001b[0m\u001b[0;32m    113\u001b[0m             \u001b[0mself\u001b[0m\u001b[1;33m.\u001b[0m\u001b[0mdispatch\u001b[0m\u001b[1;33m(\u001b[0m\u001b[0mEvents\u001b[0m\u001b[1;33m.\u001b[0m\u001b[0mOPTIMIZATION_STEP\u001b[0m\u001b[1;33m)\u001b[0m\u001b[1;33m\u001b[0m\u001b[1;33m\u001b[0m\u001b[0m\n\u001b[0;32m    114\u001b[0m \u001b[1;33m\u001b[0m\u001b[0m\n",
      "\u001b[1;32m~\\.conda\\envs\\pytorch\\lib\\site-packages\\bayes_opt\\target_space.py\u001b[0m in \u001b[0;36mprobe\u001b[1;34m(self, params)\u001b[0m\n\u001b[0;32m    192\u001b[0m         \u001b[1;32mexcept\u001b[0m \u001b[0mKeyError\u001b[0m\u001b[1;33m:\u001b[0m\u001b[1;33m\u001b[0m\u001b[1;33m\u001b[0m\u001b[0m\n\u001b[0;32m    193\u001b[0m             \u001b[0mparams\u001b[0m \u001b[1;33m=\u001b[0m \u001b[0mdict\u001b[0m\u001b[1;33m(\u001b[0m\u001b[0mzip\u001b[0m\u001b[1;33m(\u001b[0m\u001b[0mself\u001b[0m\u001b[1;33m.\u001b[0m\u001b[0m_keys\u001b[0m\u001b[1;33m,\u001b[0m \u001b[0mx\u001b[0m\u001b[1;33m)\u001b[0m\u001b[1;33m)\u001b[0m\u001b[1;33m\u001b[0m\u001b[1;33m\u001b[0m\u001b[0m\n\u001b[1;32m--> 194\u001b[1;33m             \u001b[0mtarget\u001b[0m \u001b[1;33m=\u001b[0m \u001b[0mself\u001b[0m\u001b[1;33m.\u001b[0m\u001b[0mtarget_func\u001b[0m\u001b[1;33m(\u001b[0m\u001b[1;33m**\u001b[0m\u001b[0mparams\u001b[0m\u001b[1;33m)\u001b[0m\u001b[1;33m\u001b[0m\u001b[1;33m\u001b[0m\u001b[0m\n\u001b[0m\u001b[0;32m    195\u001b[0m             \u001b[0mself\u001b[0m\u001b[1;33m.\u001b[0m\u001b[0mregister\u001b[0m\u001b[1;33m(\u001b[0m\u001b[0mx\u001b[0m\u001b[1;33m,\u001b[0m \u001b[0mtarget\u001b[0m\u001b[1;33m)\u001b[0m\u001b[1;33m\u001b[0m\u001b[1;33m\u001b[0m\u001b[0m\n\u001b[0;32m    196\u001b[0m         \u001b[1;32mreturn\u001b[0m \u001b[0mtarget\u001b[0m\u001b[1;33m\u001b[0m\u001b[1;33m\u001b[0m\u001b[0m\n",
      "\u001b[1;32m<ipython-input-18-a83954411084>\u001b[0m in \u001b[0;36moptim_function\u001b[1;34m(tol, C, intercept_scaling, verbose, max_iter, class_weight, fit_intercept, dual)\u001b[0m\n\u001b[0;32m     23\u001b[0m                                                     dual=dual))\n\u001b[0;32m     24\u001b[0m \u001b[1;33m\u001b[0m\u001b[0m\n\u001b[1;32m---> 25\u001b[1;33m     \u001b[0mclf\u001b[0m\u001b[1;33m.\u001b[0m\u001b[0mfit\u001b[0m\u001b[1;33m(\u001b[0m\u001b[0mX_train\u001b[0m\u001b[1;33m,\u001b[0m \u001b[0my_train\u001b[0m\u001b[1;33m)\u001b[0m\u001b[1;33m\u001b[0m\u001b[1;33m\u001b[0m\u001b[0m\n\u001b[0m\u001b[0;32m     26\u001b[0m \u001b[1;33m\u001b[0m\u001b[0m\n\u001b[0;32m     27\u001b[0m     \u001b[0mpred\u001b[0m \u001b[1;33m=\u001b[0m \u001b[0mclf\u001b[0m\u001b[1;33m.\u001b[0m\u001b[0mpredict\u001b[0m\u001b[1;33m(\u001b[0m\u001b[0mX_test\u001b[0m\u001b[1;33m)\u001b[0m\u001b[1;33m\u001b[0m\u001b[1;33m\u001b[0m\u001b[0m\n",
      "\u001b[1;32m~\\.conda\\envs\\pytorch\\lib\\site-packages\\sklearn\\pipeline.py\u001b[0m in \u001b[0;36mfit\u001b[1;34m(self, X, y, **fit_params)\u001b[0m\n\u001b[0;32m    352\u001b[0m                                  self._log_message(len(self.steps) - 1)):\n\u001b[0;32m    353\u001b[0m             \u001b[1;32mif\u001b[0m \u001b[0mself\u001b[0m\u001b[1;33m.\u001b[0m\u001b[0m_final_estimator\u001b[0m \u001b[1;33m!=\u001b[0m \u001b[1;34m'passthrough'\u001b[0m\u001b[1;33m:\u001b[0m\u001b[1;33m\u001b[0m\u001b[1;33m\u001b[0m\u001b[0m\n\u001b[1;32m--> 354\u001b[1;33m                 \u001b[0mself\u001b[0m\u001b[1;33m.\u001b[0m\u001b[0m_final_estimator\u001b[0m\u001b[1;33m.\u001b[0m\u001b[0mfit\u001b[0m\u001b[1;33m(\u001b[0m\u001b[0mXt\u001b[0m\u001b[1;33m,\u001b[0m \u001b[0my\u001b[0m\u001b[1;33m,\u001b[0m \u001b[1;33m**\u001b[0m\u001b[0mfit_params\u001b[0m\u001b[1;33m)\u001b[0m\u001b[1;33m\u001b[0m\u001b[1;33m\u001b[0m\u001b[0m\n\u001b[0m\u001b[0;32m    355\u001b[0m         \u001b[1;32mreturn\u001b[0m \u001b[0mself\u001b[0m\u001b[1;33m\u001b[0m\u001b[1;33m\u001b[0m\u001b[0m\n\u001b[0;32m    356\u001b[0m \u001b[1;33m\u001b[0m\u001b[0m\n",
      "\u001b[1;32m~\\.conda\\envs\\pytorch\\lib\\site-packages\\sklearn\\svm\\_classes.py\u001b[0m in \u001b[0;36mfit\u001b[1;34m(self, X, y, sample_weight)\u001b[0m\n\u001b[0;32m    237\u001b[0m         \u001b[0mself\u001b[0m\u001b[1;33m.\u001b[0m\u001b[0mclasses_\u001b[0m \u001b[1;33m=\u001b[0m \u001b[0mnp\u001b[0m\u001b[1;33m.\u001b[0m\u001b[0munique\u001b[0m\u001b[1;33m(\u001b[0m\u001b[0my\u001b[0m\u001b[1;33m)\u001b[0m\u001b[1;33m\u001b[0m\u001b[1;33m\u001b[0m\u001b[0m\n\u001b[0;32m    238\u001b[0m \u001b[1;33m\u001b[0m\u001b[0m\n\u001b[1;32m--> 239\u001b[1;33m         self.coef_, self.intercept_, self.n_iter_ = _fit_liblinear(\n\u001b[0m\u001b[0;32m    240\u001b[0m             \u001b[0mX\u001b[0m\u001b[1;33m,\u001b[0m \u001b[0my\u001b[0m\u001b[1;33m,\u001b[0m \u001b[0mself\u001b[0m\u001b[1;33m.\u001b[0m\u001b[0mC\u001b[0m\u001b[1;33m,\u001b[0m \u001b[0mself\u001b[0m\u001b[1;33m.\u001b[0m\u001b[0mfit_intercept\u001b[0m\u001b[1;33m,\u001b[0m \u001b[0mself\u001b[0m\u001b[1;33m.\u001b[0m\u001b[0mintercept_scaling\u001b[0m\u001b[1;33m,\u001b[0m\u001b[1;33m\u001b[0m\u001b[1;33m\u001b[0m\u001b[0m\n\u001b[0;32m    241\u001b[0m             \u001b[0mself\u001b[0m\u001b[1;33m.\u001b[0m\u001b[0mclass_weight\u001b[0m\u001b[1;33m,\u001b[0m \u001b[0mself\u001b[0m\u001b[1;33m.\u001b[0m\u001b[0mpenalty\u001b[0m\u001b[1;33m,\u001b[0m \u001b[0mself\u001b[0m\u001b[1;33m.\u001b[0m\u001b[0mdual\u001b[0m\u001b[1;33m,\u001b[0m \u001b[0mself\u001b[0m\u001b[1;33m.\u001b[0m\u001b[0mverbose\u001b[0m\u001b[1;33m,\u001b[0m\u001b[1;33m\u001b[0m\u001b[1;33m\u001b[0m\u001b[0m\n",
      "\u001b[1;32m~\\.conda\\envs\\pytorch\\lib\\site-packages\\sklearn\\svm\\_base.py\u001b[0m in \u001b[0;36m_fit_liblinear\u001b[1;34m(X, y, C, fit_intercept, intercept_scaling, class_weight, penalty, dual, verbose, max_iter, tol, random_state, multi_class, loss, epsilon, sample_weight)\u001b[0m\n\u001b[0;32m    934\u001b[0m \u001b[1;33m\u001b[0m\u001b[0m\n\u001b[0;32m    935\u001b[0m     \u001b[0msolver_type\u001b[0m \u001b[1;33m=\u001b[0m \u001b[0m_get_liblinear_solver_type\u001b[0m\u001b[1;33m(\u001b[0m\u001b[0mmulti_class\u001b[0m\u001b[1;33m,\u001b[0m \u001b[0mpenalty\u001b[0m\u001b[1;33m,\u001b[0m \u001b[0mloss\u001b[0m\u001b[1;33m,\u001b[0m \u001b[0mdual\u001b[0m\u001b[1;33m)\u001b[0m\u001b[1;33m\u001b[0m\u001b[1;33m\u001b[0m\u001b[0m\n\u001b[1;32m--> 936\u001b[1;33m     raw_coef_, n_iter_ = liblinear.train_wrap(\n\u001b[0m\u001b[0;32m    937\u001b[0m         \u001b[0mX\u001b[0m\u001b[1;33m,\u001b[0m \u001b[0my_ind\u001b[0m\u001b[1;33m,\u001b[0m \u001b[0msp\u001b[0m\u001b[1;33m.\u001b[0m\u001b[0misspmatrix\u001b[0m\u001b[1;33m(\u001b[0m\u001b[0mX\u001b[0m\u001b[1;33m)\u001b[0m\u001b[1;33m,\u001b[0m \u001b[0msolver_type\u001b[0m\u001b[1;33m,\u001b[0m \u001b[0mtol\u001b[0m\u001b[1;33m,\u001b[0m \u001b[0mbias\u001b[0m\u001b[1;33m,\u001b[0m \u001b[0mC\u001b[0m\u001b[1;33m,\u001b[0m\u001b[1;33m\u001b[0m\u001b[1;33m\u001b[0m\u001b[0m\n\u001b[0;32m    938\u001b[0m         \u001b[0mclass_weight_\u001b[0m\u001b[1;33m,\u001b[0m \u001b[0mmax_iter\u001b[0m\u001b[1;33m,\u001b[0m \u001b[0mrnd\u001b[0m\u001b[1;33m.\u001b[0m\u001b[0mrandint\u001b[0m\u001b[1;33m(\u001b[0m\u001b[0mnp\u001b[0m\u001b[1;33m.\u001b[0m\u001b[0miinfo\u001b[0m\u001b[1;33m(\u001b[0m\u001b[1;34m'i'\u001b[0m\u001b[1;33m)\u001b[0m\u001b[1;33m.\u001b[0m\u001b[0mmax\u001b[0m\u001b[1;33m)\u001b[0m\u001b[1;33m,\u001b[0m\u001b[1;33m\u001b[0m\u001b[1;33m\u001b[0m\u001b[0m\n",
      "\u001b[1;31mKeyboardInterrupt\u001b[0m: "
     ]
    }
   ],
   "source": [
    "optimizer.maximize(n_iter=100)"
   ]
  },
  {
   "cell_type": "code",
   "execution_count": 24,
   "metadata": {},
   "outputs": [
    {
     "data": {
      "text/plain": [
       "{'target': 0.4328530799039061,\n",
       " 'params': {'C': 4.228517846555483,\n",
       "  'class_weight': 1.4406489868843162,\n",
       "  'dual': 0.00022874963468977327,\n",
       "  'fit_intercept': 0.6046651452636795,\n",
       "  'intercept_scaling': 1.4675589081711304,\n",
       "  'max_iter': 470.769587896301,\n",
       "  'tol': 0.1862610251174595,\n",
       "  'verbose': 3.4556072704304777}}"
      ]
     },
     "execution_count": 24,
     "metadata": {},
     "output_type": "execute_result"
    }
   ],
   "source": [
    "optimizer.max"
   ]
  },
  {
   "cell_type": "code",
   "execution_count": null,
   "metadata": {},
   "outputs": [],
   "source": []
  }
 ],
 "metadata": {
  "kernelspec": {
   "display_name": "Python (pytorch)",
   "language": "python",
   "name": "pytorch"
  },
  "language_info": {
   "codemirror_mode": {
    "name": "ipython",
    "version": 3
   },
   "file_extension": ".py",
   "mimetype": "text/x-python",
   "name": "python",
   "nbconvert_exporter": "python",
   "pygments_lexer": "ipython3",
   "version": "3.8.2"
  }
 },
 "nbformat": 4,
 "nbformat_minor": 2
}
