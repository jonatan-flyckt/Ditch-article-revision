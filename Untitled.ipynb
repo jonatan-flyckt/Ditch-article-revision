{
 "cells": [
  {
   "cell_type": "code",
   "execution_count": 1,
   "metadata": {},
   "outputs": [],
   "source": [
    "import torch\n",
    "import numpy as np\n",
    "import torch.nn as nn\n",
    "import torch.nn.functional as F\n",
    "import torch\n",
    "from torch.utils.data import Dataset, DataLoader\n",
    "import pickle\n",
    "from sklearn.preprocessing import StandardScaler\n",
    "\n",
    "from general_functions import create_balanced_dataset"
   ]
  },
  {
   "cell_type": "code",
   "execution_count": 2,
   "metadata": {},
   "outputs": [],
   "source": [
    "device = torch.device(\"cuda:0\" if torch.cuda.is_available() else \"cpu\")"
   ]
  },
  {
   "cell_type": "code",
   "execution_count": 3,
   "metadata": {},
   "outputs": [],
   "source": [
    "#file = open(, \"rb\")\n",
    "#train_data = pickle.load(file)\n",
    "\n",
    "file = open(\"dataset/zone_7.pickle\", \"rb\")\n",
    "test_data = pickle.load(file)"
   ]
  },
  {
   "cell_type": "code",
   "execution_count": 4,
   "metadata": {},
   "outputs": [],
   "source": [
    "train_data_resampled = create_balanced_dataset([\"dataset/zone_4.pickle\"])"
   ]
  },
  {
   "cell_type": "code",
   "execution_count": 55,
   "metadata": {},
   "outputs": [],
   "source": [
    "X_train = np.array(train_data_resampled)[:, 1:].astype(np.float32)\n",
    "#X_train = StandardScaler().fit_transform(X_train).astype(np.float32)\n",
    "y_train = np.array(train_data_resampled)[:, 0].astype(np.int64)"
   ]
  },
  {
   "cell_type": "code",
   "execution_count": 56,
   "metadata": {},
   "outputs": [],
   "source": [
    "#X_train.astype(np.double).dtype"
   ]
  },
  {
   "cell_type": "code",
   "execution_count": 57,
   "metadata": {},
   "outputs": [],
   "source": [
    "class EncoderDataset(Dataset):\n",
    "    def __init__(self, X, y):\n",
    "        self.data = X[:]\n",
    "        self.labels = y[:]\n",
    "\n",
    "    def __len__(self):\n",
    "        return len(self.labels)\n",
    "\n",
    "    def __getitem__(self, idx):\n",
    "        return torch.from_numpy(self.data[idx]), self.labels[idx]\n",
    "    \n",
    "dataloader = DataLoader(EncoderDataset(X_train, y_train), batch_size = 512, shuffle=False, drop_last=True)"
   ]
  },
  {
   "cell_type": "code",
   "execution_count": 58,
   "metadata": {},
   "outputs": [],
   "source": [
    "class Net(nn.Module):\n",
    "    def __init__(self, inputs):\n",
    "        super(Net, self).__init__()\n",
    "        self.net = nn.Sequential(\n",
    "            nn.Linear(inputs, 32),\n",
    "            nn.ReLU(),\n",
    "            nn.Linear(32, 16),\n",
    "            nn.ReLU(),\n",
    "            nn.Linear(16, 2),\n",
    "        )\n",
    "        \n",
    "    def forward(self, x):\n",
    "        return self.net(x)\n",
    "    \n",
    "net = Net(81).to(device)"
   ]
  },
  {
   "cell_type": "code",
   "execution_count": 59,
   "metadata": {},
   "outputs": [
    {
     "data": {
      "text/plain": [
       "Net(\n",
       "  (net): Sequential(\n",
       "    (0): Linear(in_features=81, out_features=32, bias=True)\n",
       "    (1): ReLU()\n",
       "    (2): Linear(in_features=32, out_features=16, bias=True)\n",
       "    (3): ReLU()\n",
       "    (4): Linear(in_features=16, out_features=2, bias=True)\n",
       "  )\n",
       ")"
      ]
     },
     "execution_count": 59,
     "metadata": {},
     "output_type": "execute_result"
    }
   ],
   "source": [
    "net"
   ]
  },
  {
   "cell_type": "code",
   "execution_count": 60,
   "metadata": {},
   "outputs": [],
   "source": [
    "criterion = nn.CrossEntropyLoss()\n",
    "optimizer = torch.optim.AdamW(net.parameters(), lr=0.01)"
   ]
  },
  {
   "cell_type": "code",
   "execution_count": 61,
   "metadata": {},
   "outputs": [
    {
     "name": "stdout",
     "output_type": "stream",
     "text": [
      "[1,   300] loss: 0.638\n",
      "[1,   600] loss: 0.567\n",
      "[2,   300] loss: 0.617\n",
      "[2,   600] loss: 0.568\n",
      "[3,   300] loss: 0.611\n",
      "[3,   600] loss: 0.565\n",
      "[4,   300] loss: 0.609\n",
      "[4,   600] loss: 0.562\n",
      "[5,   300] loss: 0.608\n",
      "[5,   600] loss: 0.561\n",
      "[6,   300] loss: 0.607\n",
      "[6,   600] loss: 0.561\n",
      "[7,   300] loss: 0.608\n",
      "[7,   600] loss: 0.561\n",
      "[8,   300] loss: 0.607\n",
      "[8,   600] loss: 0.561\n",
      "[9,   300] loss: 0.607\n",
      "[9,   600] loss: 0.560\n",
      "[10,   300] loss: 0.606\n",
      "[10,   600] loss: 0.560\n",
      "[11,   300] loss: 0.606\n",
      "[11,   600] loss: 0.561\n",
      "[12,   300] loss: 0.606\n",
      "[12,   600] loss: 0.561\n",
      "[13,   300] loss: 0.605\n",
      "[13,   600] loss: 0.560\n",
      "[14,   300] loss: 0.605\n",
      "[14,   600] loss: 0.560\n",
      "[15,   300] loss: 0.605\n",
      "[15,   600] loss: 0.562\n",
      "[16,   300] loss: 0.604\n",
      "[16,   600] loss: 0.560\n",
      "[17,   300] loss: 0.605\n",
      "[17,   600] loss: 0.561\n",
      "[18,   300] loss: 0.605\n",
      "[18,   600] loss: 0.560\n",
      "[19,   300] loss: 0.605\n",
      "[19,   600] loss: 0.560\n",
      "[20,   300] loss: 0.605\n",
      "[20,   600] loss: 0.560\n",
      "[21,   300] loss: 0.605\n",
      "[21,   600] loss: 0.562\n",
      "[22,   300] loss: 0.604\n",
      "[22,   600] loss: 0.560\n",
      "[23,   300] loss: 0.605\n",
      "[23,   600] loss: 0.560\n",
      "[24,   300] loss: 0.605\n",
      "[24,   600] loss: 0.561\n",
      "[25,   300] loss: 0.605\n",
      "[25,   600] loss: 0.562\n",
      "[26,   300] loss: 0.604\n",
      "[26,   600] loss: 0.560\n",
      "[27,   300] loss: 0.605\n",
      "[27,   600] loss: 0.562\n",
      "[28,   300] loss: 0.604\n",
      "[28,   600] loss: 0.561\n",
      "[29,   300] loss: 0.604\n",
      "[29,   600] loss: 0.561\n",
      "[30,   300] loss: 0.604\n",
      "[30,   600] loss: 0.561\n",
      "[31,   300] loss: 0.604\n",
      "[31,   600] loss: 0.561\n",
      "[32,   300] loss: 0.604\n",
      "[32,   600] loss: 0.560\n",
      "[33,   300] loss: 0.605\n",
      "[33,   600] loss: 0.561\n",
      "[34,   300] loss: 0.604\n",
      "[34,   600] loss: 0.561\n",
      "[35,   300] loss: 0.604\n",
      "[35,   600] loss: 0.561\n",
      "[36,   300] loss: 0.604\n",
      "[36,   600] loss: 0.561\n",
      "[37,   300] loss: 0.604\n",
      "[37,   600] loss: 0.561\n",
      "[38,   300] loss: 0.604\n",
      "[38,   600] loss: 0.561\n",
      "[39,   300] loss: 0.604\n",
      "[39,   600] loss: 0.561\n",
      "[40,   300] loss: 0.604\n",
      "[40,   600] loss: 0.562\n",
      "[41,   300] loss: 0.604\n",
      "[41,   600] loss: 0.561\n",
      "[42,   300] loss: 0.604\n",
      "[42,   600] loss: 0.561\n",
      "[43,   300] loss: 0.604\n",
      "[43,   600] loss: 0.562\n",
      "[44,   300] loss: 0.604\n",
      "[44,   600] loss: 0.562\n",
      "[45,   300] loss: 0.604\n",
      "[45,   600] loss: 0.562\n",
      "[46,   300] loss: 0.604\n",
      "[46,   600] loss: 0.562\n",
      "[47,   300] loss: 0.604\n",
      "[47,   600] loss: 0.562\n",
      "[48,   300] loss: 0.604\n",
      "[48,   600] loss: 0.562\n",
      "[49,   300] loss: 0.604\n",
      "[49,   600] loss: 0.561\n",
      "[50,   300] loss: 0.604\n",
      "[50,   600] loss: 0.562\n",
      "[51,   300] loss: 0.604\n",
      "[51,   600] loss: 0.561\n",
      "[52,   300] loss: 0.604\n",
      "[52,   600] loss: 0.562\n",
      "[53,   300] loss: 0.604\n",
      "[53,   600] loss: 0.562\n",
      "[54,   300] loss: 0.604\n",
      "[54,   600] loss: 0.561\n",
      "[55,   300] loss: 0.604\n",
      "[55,   600] loss: 0.561\n",
      "[56,   300] loss: 0.604\n",
      "[56,   600] loss: 0.561\n",
      "[57,   300] loss: 0.604\n",
      "[57,   600] loss: 0.562\n",
      "[58,   300] loss: 0.604\n",
      "[58,   600] loss: 0.561\n",
      "[59,   300] loss: 0.604\n",
      "[59,   600] loss: 0.561\n",
      "[60,   300] loss: 0.604\n",
      "[60,   600] loss: 0.562\n",
      "[61,   300] loss: 0.604\n",
      "[61,   600] loss: 0.560\n",
      "[62,   300] loss: 0.604\n"
     ]
    },
    {
     "ename": "KeyboardInterrupt",
     "evalue": "",
     "output_type": "error",
     "traceback": [
      "\u001b[1;31m---------------------------------------------------------------------------\u001b[0m",
      "\u001b[1;31mKeyboardInterrupt\u001b[0m                         Traceback (most recent call last)",
      "\u001b[1;32m<ipython-input-61-2fbc6affa64b>\u001b[0m in \u001b[0;36m<module>\u001b[1;34m\u001b[0m\n\u001b[0;32m     11\u001b[0m         \u001b[0mpreds\u001b[0m \u001b[1;33m=\u001b[0m \u001b[0mnet\u001b[0m\u001b[1;33m(\u001b[0m\u001b[0mfeatures\u001b[0m\u001b[1;33m)\u001b[0m\u001b[1;33m\u001b[0m\u001b[1;33m\u001b[0m\u001b[0m\n\u001b[0;32m     12\u001b[0m         \u001b[0mloss\u001b[0m \u001b[1;33m=\u001b[0m \u001b[0mcriterion\u001b[0m\u001b[1;33m(\u001b[0m\u001b[0mpreds\u001b[0m\u001b[1;33m,\u001b[0m \u001b[0mlabels\u001b[0m\u001b[1;33m)\u001b[0m\u001b[1;33m\u001b[0m\u001b[1;33m\u001b[0m\u001b[0m\n\u001b[1;32m---> 13\u001b[1;33m         \u001b[0mloss\u001b[0m\u001b[1;33m.\u001b[0m\u001b[0mbackward\u001b[0m\u001b[1;33m(\u001b[0m\u001b[1;33m)\u001b[0m\u001b[1;33m\u001b[0m\u001b[1;33m\u001b[0m\u001b[0m\n\u001b[0m\u001b[0;32m     14\u001b[0m         \u001b[0moptimizer\u001b[0m\u001b[1;33m.\u001b[0m\u001b[0mstep\u001b[0m\u001b[1;33m(\u001b[0m\u001b[1;33m)\u001b[0m\u001b[1;33m\u001b[0m\u001b[1;33m\u001b[0m\u001b[0m\n\u001b[0;32m     15\u001b[0m \u001b[1;33m\u001b[0m\u001b[0m\n",
      "\u001b[1;32mE:\\program\\anaconda\\envs\\torch\\lib\\site-packages\\torch\\tensor.py\u001b[0m in \u001b[0;36mbackward\u001b[1;34m(self, gradient, retain_graph, create_graph)\u001b[0m\n\u001b[0;32m    196\u001b[0m                 \u001b[0mproducts\u001b[0m\u001b[1;33m.\u001b[0m \u001b[0mDefaults\u001b[0m \u001b[0mto\u001b[0m\u001b[0;31m \u001b[0m\u001b[0;31m`\u001b[0m\u001b[0;31m`\u001b[0m\u001b[1;32mFalse\u001b[0m\u001b[0;31m`\u001b[0m\u001b[0;31m`\u001b[0m\u001b[1;33m.\u001b[0m\u001b[1;33m\u001b[0m\u001b[1;33m\u001b[0m\u001b[0m\n\u001b[0;32m    197\u001b[0m         \"\"\"\n\u001b[1;32m--> 198\u001b[1;33m         \u001b[0mtorch\u001b[0m\u001b[1;33m.\u001b[0m\u001b[0mautograd\u001b[0m\u001b[1;33m.\u001b[0m\u001b[0mbackward\u001b[0m\u001b[1;33m(\u001b[0m\u001b[0mself\u001b[0m\u001b[1;33m,\u001b[0m \u001b[0mgradient\u001b[0m\u001b[1;33m,\u001b[0m \u001b[0mretain_graph\u001b[0m\u001b[1;33m,\u001b[0m \u001b[0mcreate_graph\u001b[0m\u001b[1;33m)\u001b[0m\u001b[1;33m\u001b[0m\u001b[1;33m\u001b[0m\u001b[0m\n\u001b[0m\u001b[0;32m    199\u001b[0m \u001b[1;33m\u001b[0m\u001b[0m\n\u001b[0;32m    200\u001b[0m     \u001b[1;32mdef\u001b[0m \u001b[0mregister_hook\u001b[0m\u001b[1;33m(\u001b[0m\u001b[0mself\u001b[0m\u001b[1;33m,\u001b[0m \u001b[0mhook\u001b[0m\u001b[1;33m)\u001b[0m\u001b[1;33m:\u001b[0m\u001b[1;33m\u001b[0m\u001b[1;33m\u001b[0m\u001b[0m\n",
      "\u001b[1;32mE:\\program\\anaconda\\envs\\torch\\lib\\site-packages\\torch\\autograd\\__init__.py\u001b[0m in \u001b[0;36mbackward\u001b[1;34m(tensors, grad_tensors, retain_graph, create_graph, grad_variables)\u001b[0m\n\u001b[0;32m     96\u001b[0m         \u001b[0mretain_graph\u001b[0m \u001b[1;33m=\u001b[0m \u001b[0mcreate_graph\u001b[0m\u001b[1;33m\u001b[0m\u001b[1;33m\u001b[0m\u001b[0m\n\u001b[0;32m     97\u001b[0m \u001b[1;33m\u001b[0m\u001b[0m\n\u001b[1;32m---> 98\u001b[1;33m     Variable._execution_engine.run_backward(\n\u001b[0m\u001b[0;32m     99\u001b[0m         \u001b[0mtensors\u001b[0m\u001b[1;33m,\u001b[0m \u001b[0mgrad_tensors\u001b[0m\u001b[1;33m,\u001b[0m \u001b[0mretain_graph\u001b[0m\u001b[1;33m,\u001b[0m \u001b[0mcreate_graph\u001b[0m\u001b[1;33m,\u001b[0m\u001b[1;33m\u001b[0m\u001b[1;33m\u001b[0m\u001b[0m\n\u001b[0;32m    100\u001b[0m         allow_unreachable=True)  # allow_unreachable flag\n",
      "\u001b[1;31mKeyboardInterrupt\u001b[0m: "
     ]
    }
   ],
   "source": [
    "net.train()\n",
    "for epoch in range(200):\n",
    "    running_loss = 0.0\n",
    "    for i, (features, labels) in enumerate(dataloader):\n",
    "        features = features.to(device)\n",
    "        features = (features - features.mean()) / features.std()\n",
    "        labels = labels.to(device)\n",
    "        \n",
    "        optimizer.zero_grad()\n",
    "\n",
    "        preds = net(features)\n",
    "        loss = criterion(preds, labels)\n",
    "        loss.backward()\n",
    "        optimizer.step()\n",
    "        \n",
    "        running_loss += loss.item()\n",
    "        if i % 300 == 299:    # print every 2000 mini-batches\n",
    "            print('[%d, %5d] loss: %.3f' %\n",
    "                  (epoch + 1, i + 1, running_loss / 299))\n",
    "            running_loss = 0.0"
   ]
  },
  {
   "cell_type": "code",
   "execution_count": 62,
   "metadata": {},
   "outputs": [
    {
     "name": "stdout",
     "output_type": "stream",
     "text": [
      "0.6783263269854133\n",
      "\n"
     ]
    }
   ],
   "source": [
    "with torch.no_grad():\n",
    "        acc = .0\n",
    "        net.eval()\n",
    "        for i, (features, labels) in enumerate(dataloader):\n",
    "            features = features.to(device)\n",
    "            features = (features - features.mean()) / features.std()\n",
    "            labels = labels.to(device)\n",
    "\n",
    "            preds = net(features)\n",
    "            preds = F.softmax(preds, dim=1)\n",
    "            p = preds.argmax(dim=1)\n",
    "            acc += (p==labels).sum().item() / preds.shape[0]\n",
    "            \n",
    "        print((acc/(i+1)))\n",
    "net.train()\n",
    "print()"
   ]
  },
  {
   "cell_type": "code",
   "execution_count": 109,
   "metadata": {},
   "outputs": [
    {
     "data": {
      "text/plain": [
       "torch.float32"
      ]
     },
     "execution_count": 109,
     "metadata": {},
     "output_type": "execute_result"
    }
   ],
   "source": [
    "input.dtype"
   ]
  },
  {
   "cell_type": "code",
   "execution_count": 110,
   "metadata": {},
   "outputs": [
    {
     "data": {
      "text/plain": [
       "torch.float32"
      ]
     },
     "execution_count": 110,
     "metadata": {},
     "output_type": "execute_result"
    }
   ],
   "source": [
    "target.dtype"
   ]
  }
 ],
 "metadata": {
  "kernelspec": {
   "display_name": "Torch",
   "language": "python",
   "name": "torch"
  },
  "language_info": {
   "codemirror_mode": {
    "name": "ipython",
    "version": 3
   },
   "file_extension": ".py",
   "mimetype": "text/x-python",
   "name": "python",
   "nbconvert_exporter": "python",
   "pygments_lexer": "ipython3",
   "version": "3.8.2"
  }
 },
 "nbformat": 4,
 "nbformat_minor": 4
}
